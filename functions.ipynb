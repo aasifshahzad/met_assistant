{
 "cells": [
  {
   "cell_type": "code",
   "execution_count": 6,
   "metadata": {},
   "outputs": [],
   "source": [
    "from typing import Optional, List, Tuple, Dict\n",
    "from dotenv import load_dotenv, find_dotenv\n",
    "from datetime import datetime\n",
    "from openai import OpenAI\n",
    "import requests\n",
    "import json"
   ]
  },
  {
   "cell_type": "markdown",
   "metadata": {},
   "source": [
    "# Functions"
   ]
  },
  {
   "cell_type": "markdown",
   "metadata": {},
   "source": [
    "### WMO Weather interpretation codes (WW)"
   ]
  },
  {
   "cell_type": "code",
   "execution_count": null,
   "metadata": {},
   "outputs": [],
   "source": [
    "def get_weather_description(code: int , city_location: Optional[str] = \"\") -> Optional[str]:\n",
    "    # Central_Europe_cities\n",
    "    central_europe_cities = [\"Berlin\",\"Vienna\",\"Prague\",\"Budapest\",\"Warsaw\",\"Bratislava\",\"Ljubljana\",\"Zagreb\",\"Munich\",\"Frankfurt\",\"Zurich\",\"Geneva\",\"Milan\",\"Rome\",\"Madrid\",\"Paris\",\"Brussels\",\"Amsterdam\" # Add more cities as needed\n",
    "    ]\n",
    "    # Weather Codes\n",
    "    weather_codes = {\n",
    "        0: \"Clear sky\",\n",
    "        1: \"Mainly clear\",\n",
    "        2: \"Partly cloudy\",\n",
    "        3: \"Overcast\",\n",
    "        45: \"Fog\",\n",
    "        48: \"Depositing rime fog\",\n",
    "        51: \"Drizzle with Light intensity\",\n",
    "        53: \"Drizzle with Moderate intensity\",\n",
    "        55: \"Drizzle with Dense intensity\",\n",
    "        56: \"Freezing Drizzle: Light intensity\",\n",
    "        57: \"Freezing Drizzle: Dense intensity\",\n",
    "        61: \"Rain with Slight intensity\",\n",
    "        63: \"Rain with Moderate intensity\",\n",
    "        65: \"Rain with Heavy intensity\",\n",
    "        66: \"Freezing Rain with Light intensity\",\n",
    "        67: \"Freezing Rain with Heavy intensity\",\n",
    "        71: \"Snowfall with Slight intensity\",\n",
    "        73: \"Snowfall with Moderate intensity\",\n",
    "        75: \"Snowfall with Heavy intensity\",\n",
    "        77: \"Snow grains\",\n",
    "        80: \"Rain showers with Slight intensity\",\n",
    "        81: \"Rain showers with Moderate intensity\",\n",
    "        82: \"Rain showers with Violent intensity\",\n",
    "        85: \"Snow showers with Slight\",\n",
    "        86: \"Snow showers with Heavy\",\n",
    "        95: \"Thunderstorm with Slight or moderate\",\n",
    "        96: \"Thunderstorm with slight hail\",\n",
    "        99: \"Thunderstorm with heavy hail\"\n",
    "    }\n",
    "\n",
    "    # Check if the code is in the dictionary\n",
    "    if code in weather_codes:\n",
    "        if code in [95, 96, 99] and city_location not in central_europe_cities:\n",
    "            return \"Thunderstorm with hail warning is not available outside Central Europe\"\n",
    "        else:\n",
    "            return weather_codes[code]\n",
    "    else:\n",
    "        return \"Unknown weather code\""
   ]
  },
  {
   "cell_type": "code",
   "execution_count": 6,
   "metadata": {},
   "outputs": [
    {
     "name": "stdout",
     "output_type": "stream",
     "text": [
      "Weather description: Freezing Rain: Heavy intensity\n"
     ]
    }
   ],
   "source": [
    "# Example usage:\n",
    "weather_code_input = 67\n",
    "city_location_input = \"Berlin\"  # Change to the actual city name\n",
    "weather_description = get_weather_description(weather_code_input, city_location_input)\n",
    "print(f\"Weather description: {weather_description}\")\n"
   ]
  },
  {
   "cell_type": "code",
   "execution_count": null,
   "metadata": {},
   "outputs": [],
   "source": [
    "# Example usage:\n",
    "weather_code_input = 95\n",
    "city_location_input = \"Berlin\"  # Change to the actual city name\n",
    "weather_description = get_weather_description(weather_code_input, city_location_input)\n",
    "print(f\"Weather description: {weather_description}\")"
   ]
  },
  {
   "cell_type": "markdown",
   "metadata": {},
   "source": [
    "### UNIX Timestamp to date and time"
   ]
  },
  {
   "cell_type": "code",
   "execution_count": null,
   "metadata": {},
   "outputs": [],
   "source": [
    "from datetime import datetime, timezone\n",
    "\n",
    "def convert_timestamp_to_date_and_time(timestamp, time_zone=timezone.utc):\n",
    "    try:\n",
    "        dt_object = datetime.fromtimestamp(timestamp, time_zone)\n",
    "        date = dt_object.strftime(\"%d-%m-%Y\")\n",
    "        time = dt_object.strftime(\"%H:%M\")\n",
    "        return date, time\n",
    "    except Exception as e:\n",
    "        print(f\"Error converting timestamp to date and time: {e}\")\n",
    "        return None, None\n",
    "\n"
   ]
  },
  {
   "cell_type": "code",
   "execution_count": null,
   "metadata": {},
   "outputs": [
    {
     "name": "stdout",
     "output_type": "stream",
     "text": [
      "For timestamp1: Date: 12-12-2023, Time: 00:00\n",
      "For timestamp2: Date: 13-12-2023, Time: 23:00\n"
     ]
    }
   ],
   "source": [
    "# Example usage\n",
    "timestamp1 = 1702339200\n",
    "timestamp2 = 1702508400\n",
    "\n",
    "date1, time1 = convert_timestamp_to_date_and_time(timestamp1)\n",
    "date2, time2 = convert_timestamp_to_date_and_time(timestamp2)\n",
    "\n",
    "if date1 and time1:\n",
    "    print(f\"For timestamp1: Date: {date1}, Time: {time1}\")\n",
    "\n",
    "if date2 and time2:\n",
    "    print(f\"For timestamp2: Date: {date2}, Time: {time2}\")\n"
   ]
  },
  {
   "cell_type": "markdown",
   "metadata": {},
   "source": [
    "### Target Date and Time input from user"
   ]
  },
  {
   "cell_type": "code",
   "execution_count": null,
   "metadata": {},
   "outputs": [],
   "source": [
    "\n",
    "\n",
    "\n",
    "\n",
    "def get_user_input(user_date_input,user_hour_input):\n",
    "    date_formats = [\"%Y/%m/%d\", \"%d-%m-%Y\", \"%Y-%m-%d\", \"%d/%m/%Y\"]\n",
    "\n",
    "    # Try parsing the date with different formats\n",
    "    parsed_date = None\n",
    "    for date_format in date_formats:\n",
    "        try:\n",
    "            parsed_date = datetime.strptime(user_date_input, date_format).strftime(\"%Y-%m-%d\")\n",
    "            break  # Break if parsing is successful\n",
    "        except ValueError:\n",
    "            pass  # Continue to the next format if parsing fails\n",
    "\n",
    "    if parsed_date is None:\n",
    "        print(\"Invalid date format. Please use 'YYYY/MM/DD', 'DD-MM-YYYY', 'YYYY-MM-DD', or 'DD/MM/YYYY'.\")\n",
    "        return None\n",
    "\n",
    "    try:\n",
    "        # Ensure the hour is a valid integer\n",
    "        hour = int(user_hour_input)\n",
    "        # Validate the hour is in the range [0, 23]\n",
    "        if not (0 <= hour <= 23):\n",
    "            print(\"Invalid hour. Please enter a valid hour in the range [0, 23].\")\n",
    "            return None\n",
    "    except ValueError:\n",
    "        print(\"Invalid hour. Please enter a valid integer for the hour.\")\n",
    "        return None\n",
    "\n",
    "    # Combine date and time, defaulting minutes and seconds to 00:00\n",
    "    target_datetime = f\"{parsed_date} {hour:02d}:00:00\"\n",
    "    return target_datetime\n",
    "\n",
    "\n",
    "\n",
    "    # Now you can use target_datetime in your air_quality_data function\n",
    "    # result = air_quality_data(openmeteo, latitude, longitude, target_datetime)\n"
   ]
  },
  {
   "cell_type": "code",
   "execution_count": null,
   "metadata": {},
   "outputs": [],
   "source": [
    "# Example usage\n",
    "\n",
    "# Get user input for date\n",
    "user_date_input = input(\"Enter the date (e.g., '2023/12/01', '01-12-2023', '2023-12-01', or '01/12/2023'): \")\n",
    "# Get user input for time\n",
    "user_hour_input = input(\"Enter the hour (e.g., '12' for 12:00 PM): \")\n",
    "\n",
    "target_datetime = get_user_input(user_date_input,user_hour_input)\n",
    "if target_datetime:\n",
    "    print(f\"Target Datetime: {target_datetime}\")"
   ]
  },
  {
   "cell_type": "markdown",
   "metadata": {},
   "source": [
    "### Get Latitude and Longitude of the City"
   ]
  },
  {
   "cell_type": "code",
   "execution_count": 33,
   "metadata": {},
   "outputs": [],
   "source": [
    "# Get Latitude and Longitude of the City\n",
    "def get_lat_long_from_city(city_name: str, count: int = 1, language: str = 'en', format: str = 'json') -> Optional[Tuple[float, float]]:\n",
    "    api_url: str = \"https://geocoding-api.open-meteo.com/v1/search\"\n",
    "    params = {\n",
    "        'name': city_name,\n",
    "        'count': count,\n",
    "        'language': language,\n",
    "        'format': format\n",
    "    }\n",
    "\n",
    "    try:\n",
    "        response = requests.get(api_url, params=params)\n",
    "        response.raise_for_status()  # Raise an exception for bad responses (4xx and 5xx)\n",
    "        result = response.json()\n",
    "        # print(result)\n",
    "        if result:\n",
    "            longitude = result['results'][0]['longitude']\n",
    "            latitude = result['results'][0]['latitude']\n",
    "            return float(longitude), float(latitude)\n",
    "        else:\n",
    "            print(f\"Error: Unable to retrieve coordinates. API response: {result}\")\n",
    "            return None\n",
    "    except requests.exceptions.RequestException as e:\n",
    "        print(f\"Request Exception: {e}\")\n",
    "        return None\n",
    "    except Exception as e:\n",
    "        print(f\"Exception: {e}\")\n",
    "        return None"
   ]
  },
  {
   "cell_type": "code",
   "execution_count": 34,
   "metadata": {},
   "outputs": [
    {
     "name": "stdout",
     "output_type": "stream",
     "text": [
      "Longitude 74.35071\n",
      "Latitude 31.558\n"
     ]
    }
   ],
   "source": [
    "# Example usage\n",
    "city_name:str = \"Lahore\"\n",
    "coordinates = get_lat_long_from_city(city_name)\n",
    "if coordinates:\n",
    "    Longitude, Latitude = coordinates\n",
    "    print(\"Longitude\", Longitude)\n",
    "    print(\"Latitude\", Latitude)"
   ]
  },
  {
   "cell_type": "markdown",
   "metadata": {},
   "source": [
    "### Extract City Information"
   ]
  },
  {
   "cell_type": "code",
   "execution_count": 26,
   "metadata": {},
   "outputs": [],
   "source": [
    "from typing import Optional, Tuple\n",
    "import requests\n",
    "\n",
    "def extract_city_info(city_name: str, count: int = 1, language: str = 'en', format: str = 'json') -> Optional[Tuple[str, float, float, int, str, str, float, str]]:\n",
    "    api_url: str = \"https://geocoding-api.open-meteo.com/v1/search\"\n",
    "    params = {\n",
    "        'name': city_name,\n",
    "        'count': count,\n",
    "        'language': language,\n",
    "        'format': format\n",
    "    }\n",
    "    try:\n",
    "        response = requests.get(api_url, params=params)\n",
    "        response.raise_for_status()  # Raise an exception for bad responses (4xx and 5xx)\n",
    "        results = response.json()\n",
    "        \n",
    "        if results:\n",
    "            city_name = results['results'][0]['name']\n",
    "            latitude = results['results'][0]['latitude']\n",
    "            longitude = results['results'][0]['longitude']\n",
    "            population = results['results'][0]['population']\n",
    "            country = results['results'][0]['country']\n",
    "            country_code = results['results'][0]['country_code']\n",
    "            elevation = results['results'][0]['elevation']\n",
    "            timezone = results['results'][0]['timezone']\n",
    "            \n",
    "            print(f\"City Name: {city_name}\")\n",
    "            print(f\"Latitude: {latitude}\")\n",
    "            print(f\"Longitude: {longitude}\")\n",
    "            print(f\"Population: {population}\")\n",
    "            print(f\"Country: {country}\")\n",
    "            print(f\"Country Code: {country_code}\")\n",
    "            print(f\"Elevation: {elevation}\")\n",
    "            print(f\"Timezone: {timezone}\")\n",
    "            \n",
    "            json_output = {\n",
    "                                    \"City Name\": city_name,\n",
    "                                    \"Latitude\": latitude,\n",
    "                                    \"Longitude\": longitude,\n",
    "                                    \"Population\": population,\n",
    "                                    \"Country\": country,\n",
    "                                    \"Country Code\": country_code,\n",
    "                                    \"Elevation\": elevation,\n",
    "                                    \"Timezone\": timezone\n",
    "                                }\n",
    "            \n",
    "            return json_output\n",
    "        else:\n",
    "            print(f\"Error: Unable to extract the city info. API response: {results}\")\n",
    "            return None\n",
    "\n",
    "    except KeyError as e:\n",
    "        print(f\"Error: Key not found in the response - {e}\")\n",
    "        return None\n",
    "    except Exception as e:\n",
    "        print(f\"Exception: {e}\")\n",
    "        return None\n"
   ]
  },
  {
   "cell_type": "code",
   "execution_count": 30,
   "metadata": {},
   "outputs": [
    {
     "name": "stdout",
     "output_type": "stream",
     "text": [
      "City Name: New York\n",
      "Latitude: 40.71427\n",
      "Longitude: -74.00597\n",
      "Population: 8175133\n",
      "Country: United States\n",
      "Country Code: US\n",
      "Elevation: 10\n",
      "Timezone: America/New_York\n"
     ]
    }
   ],
   "source": [
    "# Example Usage\n",
    "city_name = \"New York\"\n",
    "city_info = extract_city_info(city_name)\n",
    "print(city_info)\n",
    "type(city_info)\n",
    "# Accessing values using positive indexing\n",
    "city_name = city_info[0]\n",
    "latitude = city_info[1]\n",
    "longitude = city_info[2]\n",
    "population = city_info[3]\n",
    "country = city_info[4]\n",
    "country_code = city_info[5]\n",
    "elevation = city_info[6]\n",
    "timezone = city_info[7]\n",
    "\n",
    "print(f\"City Name: {city_name}\")\n",
    "print(f\"Latitude: {latitude}\")\n",
    "print(f\"Longitude: {longitude}\")\n",
    "print(f\"Population: {population}\")\n",
    "print(f\"Country: {country}\")\n",
    "print(f\"Country Code: {country_code}\")\n",
    "print(f\"Elevation: {elevation}\")\n",
    "print(f\"Timezone: {timezone}\")"
   ]
  },
  {
   "cell_type": "markdown",
   "metadata": {},
   "source": [
    "### \"openmeteo\" Library Base imports and variables"
   ]
  },
  {
   "cell_type": "code",
   "execution_count": 3,
   "metadata": {},
   "outputs": [],
   "source": [
    "import openmeteo_requests\n",
    "import requests_cache\n",
    "import pandas as pd\n",
    "from retry_requests import retry\n",
    "from datetime import datetime\n",
    "import numpy as np\n",
    "\n",
    "# Setup the Open-Meteo API client with cache and retry on error\n",
    "cache_session = requests_cache.CachedSession('.cache', expire_after = 3600)\n",
    "retry_session = retry(cache_session, retries = 5, backoff_factor = 0.2)\n",
    "openmeteo = openmeteo_requests.Client(session = retry_session)\n",
    "type(openmeteo)\n",
    "timeformat = \"unixtime\""
   ]
  },
  {
   "cell_type": "markdown",
   "metadata": {},
   "source": [
    "### River Discharge from Global Flood API"
   ]
  },
  {
   "cell_type": "code",
   "execution_count": 74,
   "metadata": {},
   "outputs": [],
   "source": [
    "def daily_river_discharge(openmeteo, latitude, longitude, target_date):\n",
    "    url = \"https://flood-api.open-meteo.com/v1/flood\"\n",
    "    params = {\n",
    "        \"latitude\": latitude,\n",
    "        \"longitude\": longitude,\n",
    "        \"daily\": \"river_discharge\",\n",
    "        \"timeformat\": \"unixtime\",\n",
    "        \"past_days\": 92,\n",
    "        \"forecast_days\": 92,\n",
    "    }\n",
    "\n",
    "    try:\n",
    "        # Assuming openmeteo.weather_api returns a list of responses\n",
    "        responses = openmeteo.weather_api(url, params=params)\n",
    "\n",
    "        # Assuming response.Daily() returns the daily data\n",
    "        response = responses[0].Daily()\n",
    "\n",
    "        # Assuming response.Variables(0).ValuesAsNumpy() returns river discharge values\n",
    "        daily_river_discharge = response.Variables(0).ValuesAsNumpy()\n",
    "\n",
    "        daily_data = {\n",
    "            \"date\": pd.date_range(\n",
    "                start=pd.to_datetime(response.Time(), unit=\"s\"),\n",
    "                end=pd.to_datetime(response.TimeEnd(), unit=\"s\"),\n",
    "                freq=pd.Timedelta(seconds=response.Interval()),\n",
    "                inclusive=\"left\"\n",
    "            )\n",
    "        }\n",
    "\n",
    "        daily_data[\"river_discharge\"] = daily_river_discharge\n",
    "        daily_dataframe = pd.DataFrame(data=daily_data)\n",
    "\n",
    "        # Filter the DataFrame for the target date\n",
    "        target_date = pd.to_datetime(target_date)\n",
    "        discharge_value = daily_dataframe[daily_dataframe['date'] == target_date]['river_discharge'].values\n",
    "\n",
    "        if len(discharge_value) > 0:\n",
    "            formatted_date = target_date.strftime(\"%d-%m-%Y\")\n",
    "            rounded_discharge = round(float(discharge_value[0]), 4)\n",
    "            print(f\"River discharge on {formatted_date}: {rounded_discharge} m³/s\")\n",
    "            json_output = {\n",
    "                            \"Date\": formatted_date,\n",
    "                            \"River discharge\":rounded_discharge\n",
    "                            }\n",
    "            return json_output\n",
    "        else:\n",
    "            formatted_date = target_date.strftime(\"%d-%m-%Y\")\n",
    "            print(f\"No data available for {formatted_date}\")\n",
    "            return None\n",
    "\n",
    "    except KeyError as e:\n",
    "        print(f\"Error: Key not found in the response - {e}\")\n",
    "        return None\n",
    "    except Exception as e:\n",
    "        print(f\"Exception: {e}\")\n",
    "        return None"
   ]
  },
  {
   "cell_type": "code",
   "execution_count": 76,
   "metadata": {},
   "outputs": [
    {
     "name": "stdout",
     "output_type": "stream",
     "text": [
      "River discharge on 01-01-2024: 3.3551 m³/s\n"
     ]
    }
   ],
   "source": [
    "# Example usage\n",
    "latitude = 59.91\n",
    "longitude = 10.75\n",
    "target_date = \"2024-01-01\"  # Replace with your desired date\n",
    "result = daily_river_discharge(openmeteo, latitude, longitude, target_date)"
   ]
  },
  {
   "cell_type": "markdown",
   "metadata": {},
   "source": [
    "### Air Quality"
   ]
  },
  {
   "cell_type": "markdown",
   "metadata": {},
   "source": [
    "#### air_quality_data -------> [\"pm10\", \"pm2_5\", \"aerosol_optical_depth\", \"dust\"]"
   ]
  },
  {
   "cell_type": "code",
   "execution_count": 27,
   "metadata": {},
   "outputs": [],
   "source": [
    "def air_quality_data(openmeteo, latitude, longitude, target_datetime):\n",
    "    url = \"https://air-quality-api.open-meteo.com/v1/air-quality\"\n",
    "    params = {\n",
    "        \"latitude\": latitude,\n",
    "        \"longitude\": longitude,\n",
    "        \"hourly\": [\"pm10\", \"pm2_5\", \"aerosol_optical_depth\", \"dust\"],\n",
    "        \"timeformat\": \"unixtime\",\n",
    "        \"past_days\": 92,\n",
    "    }\n",
    "\n",
    "    try:\n",
    "        # Assuming openmeteo.weather_api returns a list of responses\n",
    "        responses = openmeteo.weather_api(url, params=params)\n",
    "\n",
    "        # Assuming response.Hourly() returns the hourly data\n",
    "        response = responses[0].Hourly()\n",
    "\n",
    "        # Assuming response.Variables(index) returns the hourly data for the specified index\n",
    "        hourly_pm10 = response.Variables(0).ValuesAsNumpy()\n",
    "        hourly_pm2_5 = response.Variables(1).ValuesAsNumpy()\n",
    "        hourly_aerosol_optical_depth = response.Variables(2).ValuesAsNumpy()\n",
    "        hourly_dust = response.Variables(3).ValuesAsNumpy()\n",
    "\n",
    "        hourly_data = {\n",
    "            \"date\": pd.date_range(\n",
    "                start=pd.to_datetime(response.Time(), unit=\"s\"),\n",
    "                end=pd.to_datetime(response.TimeEnd(), unit=\"s\"),\n",
    "                freq=pd.Timedelta(seconds=response.Interval()),\n",
    "                inclusive=\"left\"\n",
    "            )\n",
    "        }\n",
    "        hourly_data[\"pm10\"] = hourly_pm10\n",
    "        hourly_data[\"pm2_5\"] = hourly_pm2_5\n",
    "        hourly_data[\"aerosol_optical_depth\"] = hourly_aerosol_optical_depth\n",
    "        hourly_data[\"dust\"] = hourly_dust\n",
    "\n",
    "        hourly_dataframe = pd.DataFrame(data=hourly_data)\n",
    "\n",
    "        # Filter the DataFrame for the target datetime\n",
    "        target_datetime = pd.to_datetime(target_datetime)\n",
    "        target_data = hourly_dataframe[hourly_dataframe['date'] == target_datetime]\n",
    "\n",
    "        if not target_data.empty:\n",
    "            formatted_datetime = target_datetime.strftime(\"%Y-%m-%d at %H:%M\")\n",
    "            print(f\"AQI data on {formatted_datetime}:\")\n",
    "            print(f\"PM10: {round(float(target_data['pm10'].values[0]), 4)} µg/m³\")\n",
    "            print(f\"PM2.5: {round(float(target_data['pm2_5'].values[0]), 4)} µg/m³\")\n",
    "            print(f\"Aerosol Optical Depth: {round(float(target_data['aerosol_optical_depth'].values[0]), 4)}\")\n",
    "            print(f\"Dust: {round(float(target_data['dust'].values[0]), 4)}\")\n",
    "            json_output = {\n",
    "                            \"Date and Time\": formatted_datetime,\n",
    "                            \"PM 10\": f\"{round(float(target_data['pm10'].values[0]), 4)} µg/m³\",\n",
    "                            \"PM 2.5\":f\"{round(float(target_data['pm2_5'].values[0]), 4)} µg/m³\",\n",
    "                            \"Aerosol Optical Depth\": f\"{round(float(target_data['aerosol_optical_depth'].values[0]), 4)}\",\n",
    "                            \"dust\": f\"{round(float(target_data['dust'].values[0]), 4)}\"\n",
    "                        }\n",
    "            return json_output\n",
    "        else:\n",
    "            formatted_datetime = target_datetime.strftime(\"%Y-%m-%d %H:%M:%S\")\n",
    "            print(f\"No data available for {formatted_datetime}\")\n",
    "            return None\n",
    "\n",
    "    except KeyError as e:\n",
    "        print(f\"Error: Key not found in the response - {e}\")\n",
    "        return None\n",
    "    except Exception as e:\n",
    "        print(f\"Exception: {e}\")\n",
    "        return None"
   ]
  },
  {
   "cell_type": "code",
   "execution_count": 29,
   "metadata": {},
   "outputs": [
    {
     "name": "stdout",
     "output_type": "stream",
     "text": [
      "AQI data on 2023-12-01 at 12:00:\n",
      "PM10: 14.4 µg/m³\n",
      "PM2.5: 8.4 µg/m³\n",
      "Aerosol Optical Depth: 0.06\n",
      "Dust: 0.0\n",
      "{'Date and Time': '2023-12-01 at 12:00', 'PM 10': '14.4 µg/m³', 'PM 2.5': '8.4 µg/m³', 'Aerosol Optical Depth': '0.06', 'dust': '0.0'}\n"
     ]
    }
   ],
   "source": [
    "# Example usage\n",
    "latitude = 52.52\n",
    "longitude = 13.41\n",
    "target_datetime = \"2023-12-01 12:00:00\"  # Replace with your desired date and time\n",
    "result = air_quality_data(openmeteo, latitude, longitude, target_datetime)\n",
    "print(result)\n",
    "#print(type(result))"
   ]
  },
  {
   "cell_type": "markdown",
   "metadata": {},
   "source": [
    "#### European AQI description"
   ]
  },
  {
   "cell_type": "code",
   "execution_count": 19,
   "metadata": {},
   "outputs": [],
   "source": [
    "def describe_european_aqi(aqi_value):\n",
    "    if 0 <= aqi_value < 20:\n",
    "        return \"Good\"\n",
    "    elif 20 <= aqi_value < 40:\n",
    "        return \"Fair\"\n",
    "    elif 40 <= aqi_value < 60:\n",
    "        return \"Moderate\"\n",
    "    elif 60 <= aqi_value < 80:\n",
    "        return \"Poor\"\n",
    "    elif 80 <= aqi_value < 100:\n",
    "        return \"Very Poor\"\n",
    "    elif aqi_value >= 100:\n",
    "        return \"Extremely Poor\"\n",
    "    else:\n",
    "        return \"Invalid AQI value\""
   ]
  },
  {
   "cell_type": "code",
   "execution_count": 45,
   "metadata": {},
   "outputs": [
    {
     "name": "stdout",
     "output_type": "stream",
     "text": [
      "The European AQI of 18.475000381469727 is categorized as: Good\n"
     ]
    }
   ],
   "source": [
    "\n",
    "# Example usage:\n",
    "european_aqi_value = 18.475000381469727\n",
    "aqi_description = describe_european_aqi(european_aqi_value)\n",
    "print(f\"The European AQI of {european_aqi_value} is categorized as: {aqi_description}\")\n"
   ]
  },
  {
   "cell_type": "markdown",
   "metadata": {},
   "source": [
    "#### US AQI description"
   ]
  },
  {
   "cell_type": "code",
   "execution_count": 22,
   "metadata": {},
   "outputs": [],
   "source": [
    "def describe_us_aqi(aqi_value):\n",
    "    if 0 <= aqi_value <= 50:\n",
    "        return \"Good\"\n",
    "    elif 51 <= aqi_value <= 100:\n",
    "        return \"Moderate\"\n",
    "    elif 101 <= aqi_value <= 150:\n",
    "        return \"Unhealthy for Sensitive Groups\"\n",
    "    elif 151 <= aqi_value <= 200:\n",
    "        return \"Unhealthy\"\n",
    "    elif 201 <= aqi_value <= 300:\n",
    "        return \"Very Unhealthy\"\n",
    "    elif 301 <= aqi_value <= 500:\n",
    "        return \"Hazardous\"\n",
    "    else:\n",
    "        return \"Invalid AQI value\""
   ]
  },
  {
   "cell_type": "code",
   "execution_count": 47,
   "metadata": {},
   "outputs": [
    {
     "name": "stdout",
     "output_type": "stream",
     "text": [
      "The US AQI of 38.48958206176758 is categorized as: Good\n"
     ]
    }
   ],
   "source": [
    "# Example usage:\n",
    "us_aqi_value = 38.48958206176758\n",
    "us_aqi_description = describe_us_aqi(us_aqi_value)\n",
    "print(f\"The US AQI of {us_aqi_value} is categorized as: {us_aqi_description}\")\n"
   ]
  },
  {
   "cell_type": "markdown",
   "metadata": {},
   "source": [
    "#### describe_current_air_quality_index"
   ]
  },
  {
   "cell_type": "code",
   "execution_count": 25,
   "metadata": {},
   "outputs": [],
   "source": [
    "def describe_current_air_quality_index(openmeteo, latitude, longitude):\n",
    "    url = \"https://air-quality-api.open-meteo.com/v1/air-quality\"\n",
    "    params = {\n",
    "        \"latitude\": latitude,\n",
    "        \"longitude\": longitude,\n",
    "        \"current\": [\"european_aqi\", \"us_aqi\"],\n",
    "        \"timeformat\": \"unixtime\",\n",
    "        \"past_days\": 92,\n",
    "    }\n",
    "\n",
    "    try:\n",
    "        # Assuming openmeteo.weather_api returns a list of responses\n",
    "        responses = openmeteo.weather_api(url, params=params)\n",
    "        \n",
    "        # Current values. The order of variables needs to be the same as requested.\n",
    "        response = responses[0]\n",
    "        current = response.Current()\n",
    "        current_european_aqi = current.Variables(0).Value()\n",
    "        current_us_aqi = current.Variables(1).Value()\n",
    "\n",
    "        if current:\n",
    "            european_rated = describe_european_aqi(current_european_aqi)\n",
    "            print(f\"Current european_aqi is {round(float(current_european_aqi), 4)} and it is rated as {european_rated}\")\n",
    "            \n",
    "            us_rated = describe_us_aqi(current_us_aqi)\n",
    "            print(f\"Current us_aqi is {round(float(current_us_aqi), 4)} and it is rated as {us_rated}\")\n",
    "            \n",
    "            json_output = {\n",
    "                            \"European AQI\": f\"{round(float(current_european_aqi), 4)} and it is rated as {european_rated}\",\n",
    "                            \"US AQI\":f\"{round(float(current_us_aqi), 4)} and it is rated as {us_rated}\",\n",
    "                        }\n",
    "            return json_output\n",
    "        else:\n",
    "            print(f\"No data available\")\n",
    "            return None\n",
    "\n",
    "    except KeyError as e:\n",
    "        print(f\"Error: Key not found in the response - {e}\")\n",
    "        return None\n",
    "    except Exception as e:\n",
    "        print(f\"Exception: {e}\")\n",
    "        return None"
   ]
  },
  {
   "cell_type": "code",
   "execution_count": 54,
   "metadata": {},
   "outputs": [],
   "source": [
    "def describe_current_air_quality_index(openmeteo, latitude, longitude, target_datetime):\n",
    "    url = \"https://air-quality-api.open-meteo.com/v1/air-quality\"\n",
    "    params = {\n",
    "        \"latitude\": latitude,\n",
    "        \"longitude\": longitude,\n",
    "        \"current\": [\"european_aqi\", \"us_aqi\"],\n",
    "        \"timeformat\": \"unixtime\",\n",
    "        \"past_days\": 92,\n",
    "    }\n",
    "\n",
    "    try:\n",
    "        # Assuming openmeteo.weather_api returns a list of responses\n",
    "        responses = openmeteo.weather_api(url, params=params)\n",
    "\n",
    "        for response in responses:\n",
    "            # Current values. The order of variables needs to be the same as requested.\n",
    "            current = response.get(\"current\", {})\n",
    "\n",
    "            current_european_aqi = current.get(\"european_aqi\")\n",
    "            current_us_aqi = current.get(\"us_aqi\")\n",
    "\n",
    "            if current_european_aqi is not None and current_us_aqi is not None:\n",
    "                current_aqi_data = {\n",
    "                    \"date\": pd.date_range(\n",
    "                        start=pd.to_datetime(response.get(\"time\"), unit=\"s\"),\n",
    "                        end=pd.to_datetime(response.get(\"timeEnd\"), unit=\"s\"),\n",
    "                        freq=pd.Timedelta(seconds=response.get(\"interval\")),\n",
    "                        inclusive=\"left\"\n",
    "                    )\n",
    "                }\n",
    "                current_aqi_data[\"current_european_aqi\"] = current_european_aqi\n",
    "                current_aqi_data[\"current_us_aqi\"] = current_us_aqi\n",
    "\n",
    "                current_aqi_dataframe = pd.DataFrame(data=current_aqi_data)\n",
    "\n",
    "                # Filter the DataFrame for the target datetime\n",
    "                target_datetime = pd.to_datetime(target_datetime)\n",
    "                target_data = current_aqi_dataframe[current_aqi_dataframe['date'] == target_datetime]\n",
    "\n",
    "                if not target_data.empty:\n",
    "                    formatted_datetime = target_datetime.strftime(\"%Y-%m-%d at %H:%M\")\n",
    "\n",
    "                    print(f\"Formatted Time {formatted_datetime}\")\n",
    "                    current_european_aqi = target_data['current_european_aqi'].values[0]\n",
    "                    european_rated = describe_european_aqi(current_european_aqi)\n",
    "                    print(f\"Current european_aqi is {current_european_aqi} and it is rated as {european_rated}\")\n",
    "\n",
    "                    current_us_aqi = target_data['current_us_aqi'].values[0]\n",
    "                    us_rated = describe_us_aqi(current_us_aqi)\n",
    "                    print(f\"Current us_aqi is {current_us_aqi} and it is rated as {us_rated}\")\n",
    "\n",
    "                    json_output = {\n",
    "                        \"Date and Time\": formatted_datetime,\n",
    "                        \"European AQI\": f\"{round(float(current_european_aqi), 4)} and it is rated as {european_rated}\",\n",
    "                        \"US AQI\": f\"{round(float(current_us_aqi), 4)} and it is rated as {us_rated}\",\n",
    "                    }\n",
    "                    return json_output\n",
    "                else:\n",
    "                    formatted_datetime = target_datetime.strftime(\"%Y-%m-%d %H:%M:%S\")\n",
    "                    print(f\"No data available for {formatted_datetime}\")\n",
    "                    return None\n",
    "\n",
    "        print(\"No valid data found in the response.\")\n",
    "        return None\n",
    "\n",
    "    except KeyError as e:\n",
    "        print(f\"Error: Key not found in the response - {e}\")\n",
    "        return None\n",
    "    except Exception as e:\n",
    "        print(f\"Exception: {e}\")\n",
    "        return None\n"
   ]
  },
  {
   "cell_type": "code",
   "execution_count": 26,
   "metadata": {},
   "outputs": [
    {
     "name": "stdout",
     "output_type": "stream",
     "text": [
      "Current european_aqi is 19.6 and it is rated as Good\n",
      "Current us_aqi is 32.6562 and it is rated as Good\n",
      "{'European AQI': '19.6 and it is rated as Good', 'US AQI': '32.6562 and it is rated as Good'}\n"
     ]
    }
   ],
   "source": [
    "#Example usage\n",
    "latitude = 54.544587\n",
    "longitude = 10.227487\n",
    "target_datetime = \"2023-12-12 14:00:00\"\n",
    "\n",
    "result = describe_current_air_quality_index(openmeteo, latitude, longitude)\n",
    "\n",
    "# Print the result\n",
    "print(result)"
   ]
  },
  {
   "cell_type": "markdown",
   "metadata": {},
   "source": [
    "### Marine Weather"
   ]
  },
  {
   "cell_type": "markdown",
   "metadata": {},
   "source": [
    "#### marine_daily        --------->       [\"wave_height_max\"]"
   ]
  },
  {
   "cell_type": "code",
   "execution_count": 30,
   "metadata": {},
   "outputs": [
    {
     "name": "stdout",
     "output_type": "stream",
     "text": [
      "Max Wave Height: 1.86\n",
      "{'Date_and_time': '2023-12-12 at 14:00', 'daily_wave_height_max': {1.86}}\n"
     ]
    }
   ],
   "source": [
    "def marine_data(openmeteo, latitude, longitude, target_datetime):\n",
    "    url = \"https://marine-api.open-meteo.com/v1/marine\"\n",
    "    params = {\n",
    "        \"latitude\": latitude,\n",
    "        \"longitude\": longitude,\n",
    "        \"daily\": \"wave_height_max\",\n",
    "        \"timeformat\": \"unixtime\",\n",
    "        \"timezone\": \"auto\",\n",
    "        \"past_days\": 92,\n",
    "\n",
    "    }\n",
    "\n",
    "    try:\n",
    "        responses = openmeteo.weather_api(url, params=params)\n",
    "        response = responses[0]\n",
    "\n",
    "        # Process daily data\n",
    "        daily = response.Daily()\n",
    "        daily_wave_height_max = daily.Variables(0).ValuesAsNumpy()\n",
    "\n",
    "        daily_data = {\n",
    "            \"date\": pd.date_range(\n",
    "                start=pd.to_datetime(daily.Time(), unit=\"s\"),\n",
    "                end=pd.to_datetime(daily.TimeEnd(), unit=\"s\"),\n",
    "                freq=pd.Timedelta(seconds=daily.Interval()),\n",
    "                inclusive=\"left\"\n",
    "            ),\n",
    "            \"daily_wave_height_max\": [value for value in daily_wave_height_max]\n",
    "        }\n",
    "        \n",
    "        daily_dataframe = pd.DataFrame(data=daily_data)\n",
    "        #print(daily_dataframe)\n",
    "        \n",
    "        target_datetime = pd.to_datetime(target_datetime)\n",
    "        target_data = daily_dataframe[daily_dataframe['date'].dt.date == target_datetime.date()]\n",
    "        \n",
    "        if not target_data.empty:\n",
    "            formatted_datetime = target_datetime.strftime(\"%Y-%m-%d at %H:%M\")\n",
    "            #print(f\"Max Wave Height: {round(float(target_data['daily_wave_height_max'].values[0]), 4)}\")\n",
    "            json_output = {\n",
    "                            \"Date and Time\": formatted_datetime,\n",
    "                            \"Max Wave Height\": {round(float(target_data['daily_wave_height_max'].values[0]), 4)}\n",
    "                        }\n",
    "            return json_output\n",
    "        else:\n",
    "            formatted_datetime = target_datetime.strftime(\"%Y-%m-%d %H:%M:%S\")\n",
    "            print(f\"No data available for {formatted_datetime}\")\n",
    "            return None\n",
    "\n",
    "    except KeyError as e:\n",
    "        print(f\"Error: Key not found in the response - {e}\")\n",
    "        return None\n",
    "    except Exception as e:\n",
    "        print(f\"Exception: {e}\")\n",
    "        return None\n",
    "\n",
    "# Example usage\n",
    "latitude = 54.544587\n",
    "longitude = 10.227487\n",
    "target_datetime = \"2023-12-12 14:00:00\"  # Replace with your desired date and time\n",
    "result = marine_data(openmeteo, latitude, longitude,target_datetime)\n",
    "print(result)\n"
   ]
  },
  {
   "cell_type": "markdown",
   "metadata": {},
   "source": [
    "#### marine_hourly        --------->       [\"wave_height\", \"wave_direction\",\"wave_period\"]"
   ]
  },
  {
   "cell_type": "code",
   "execution_count": 42,
   "metadata": {},
   "outputs": [
    {
     "name": "stdout",
     "output_type": "stream",
     "text": [
      "{'Date and Time': '2023-12-18 at 14:00', 'Wave Height': '0.76 meters', 'Wave Direction': '249.0 degree', 'Wave Period': '3.15 seconds'}\n"
     ]
    }
   ],
   "source": [
    "def marine_data(openmeteo, latitude, longitude, target_datetime):\n",
    "    url = \"https://marine-api.open-meteo.com/v1/marine\"\n",
    "    params = {\n",
    "        \"latitude\": latitude,\n",
    "        \"longitude\": longitude,\n",
    "        \"hourly\": [\"wave_height\", \"wave_direction\",\"wave_period\"],\n",
    "        \"timeformat\": \"unixtime\",\n",
    "        \"timezone\": \"auto\",\n",
    "        \"past_days\": 92,\n",
    "    }\n",
    "\n",
    "    try:\n",
    "        responses = openmeteo.weather_api(url, params=params)\n",
    "        response = responses[0]\n",
    "\n",
    "        # Process hourly data\n",
    "        hourly = response.Hourly()\n",
    "        hourly_wave_height = hourly.Variables(0).ValuesAsNumpy()\n",
    "        hourly_wave_direction = hourly.Variables(1).ValuesAsNumpy()\n",
    "        current_wave_period = hourly.Variables(2).ValuesAsNumpy()\n",
    "\n",
    "        hourly_data = {\n",
    "            \"date\": pd.date_range(\n",
    "                start=pd.to_datetime(hourly.Time(), unit=\"s\"),\n",
    "                end=pd.to_datetime(hourly.TimeEnd(), unit=\"s\"),\n",
    "                freq=pd.Timedelta(seconds=hourly.Interval()),\n",
    "                inclusive=\"left\"\n",
    "            ),\n",
    "            \"hourly_wave_height\": [value for value in hourly_wave_height],\n",
    "            \"hourly_wave_direction\": [value for value in hourly_wave_direction],\n",
    "            \"hourly_wave_period\": [value for value in current_wave_period]\n",
    "            }\n",
    "\n",
    "        #print(\"Hourly Data:\", hourly_data)\n",
    "        \n",
    "        hourly_dataframe = pd.DataFrame(data=hourly_data)\n",
    "        #print(hourly_dataframe)\n",
    "        \n",
    "        target_datetime = pd.to_datetime(target_datetime)\n",
    "        target_data = hourly_dataframe[hourly_dataframe['date'].dt.date == target_datetime.date()]\n",
    "        \n",
    "        if not target_data.empty:\n",
    "            formatted_datetime = target_datetime.strftime(\"%Y-%m-%d at %H:%M\")\n",
    "            # print(formatted_datetime)\n",
    "            # print(f\"hourly_wave_height: {round(float(target_data['hourly_wave_height'].values[0]), 4)} meters\")\n",
    "            # print(f\"hourly_wave_direction: {round(float(target_data['hourly_wave_direction'].values[0]), 4)} degree\"),\n",
    "            # print(f\"hourly_wave_period: {round(float(target_data['hourly_wave_period'].values[0]), 4)} seconds\"),\n",
    "            \n",
    "            json_output = {\n",
    "                            \"Date and Time\": formatted_datetime,\n",
    "                            \"Wave Height\": f\"{round(float(target_data['hourly_wave_height'].values[0]), 4)} meters\",\n",
    "                            \"Wave Direction\": f\"{round(float(target_data['hourly_wave_direction'].values[0]), 4)} degree\",\n",
    "                            \"Wave Period\": f\"{round(float(target_data['hourly_wave_period'].values[0]), 4)} seconds\"\n",
    "                        }\n",
    "            return json_output\n",
    "        else:\n",
    "            formatted_datetime = target_datetime.strftime(\"%Y-%m-%d %H:%M:%S\")\n",
    "            print(f\"No data available for {formatted_datetime}\")\n",
    "            return None\n",
    "\n",
    "    except KeyError as e:\n",
    "        print(f\"Error: Key not found in the response - {e}\")\n",
    "        return None\n",
    "    except Exception as e:\n",
    "        print(f\"Exception: {e}\")\n",
    "        return None\n",
    "\n",
    "# Example usage\n",
    "latitude = 54.544587\n",
    "longitude = 10.227487\n",
    "target_datetime = \"2023-12-18 14:00:00\"  # Replace with your desired date and time\n",
    "result = marine_data(openmeteo, latitude, longitude,target_datetime)\n",
    "print(result)\n"
   ]
  }
 ],
 "metadata": {
  "kernelspec": {
   "display_name": "python-12-env",
   "language": "python",
   "name": "python3"
  },
  "language_info": {
   "codemirror_mode": {
    "name": "ipython",
    "version": 3
   },
   "file_extension": ".py",
   "mimetype": "text/x-python",
   "name": "python",
   "nbconvert_exporter": "python",
   "pygments_lexer": "ipython3",
   "version": "3.12.0"
  }
 },
 "nbformat": 4,
 "nbformat_minor": 2
}
