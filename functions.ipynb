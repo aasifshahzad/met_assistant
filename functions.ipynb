{
 "cells": [
  {
   "cell_type": "code",
   "execution_count": 7,
   "metadata": {},
   "outputs": [],
   "source": [
    "from typing import Optional, List, Tuple, Dict\n",
    "from dotenv import load_dotenv, find_dotenv\n",
    "from datetime import datetime\n",
    "from openai import OpenAI\n",
    "import requests\n",
    "import json"
   ]
  },
  {
   "cell_type": "markdown",
   "metadata": {},
   "source": [
    "# Functions"
   ]
  },
  {
   "cell_type": "markdown",
   "metadata": {},
   "source": [
    "### WMO Weather interpretation codes (WW)"
   ]
  },
  {
   "cell_type": "code",
   "execution_count": null,
   "metadata": {},
   "outputs": [],
   "source": [
    "def get_weather_description(code: int , city_location: Optional[str] = \"\") -> Optional[str]:\n",
    "    # Central_Europe_cities\n",
    "    central_europe_cities = [\"Berlin\",\"Vienna\",\"Prague\",\"Budapest\",\"Warsaw\",\"Bratislava\",\"Ljubljana\",\"Zagreb\",\"Munich\",\"Frankfurt\",\"Zurich\",\"Geneva\",\"Milan\",\"Rome\",\"Madrid\",\"Paris\",\"Brussels\",\"Amsterdam\" # Add more cities as needed\n",
    "    ]\n",
    "    # Weather Codes\n",
    "    weather_codes = {\n",
    "        0: \"Clear sky\",\n",
    "        1: \"Mainly clear\",\n",
    "        2: \"Partly cloudy\",\n",
    "        3: \"Overcast\",\n",
    "        45: \"Fog\",\n",
    "        48: \"Depositing rime fog\",\n",
    "        51: \"Drizzle with Light intensity\",\n",
    "        53: \"Drizzle with Moderate intensity\",\n",
    "        55: \"Drizzle with Dense intensity\",\n",
    "        56: \"Freezing Drizzle: Light intensity\",\n",
    "        57: \"Freezing Drizzle: Dense intensity\",\n",
    "        61: \"Rain with Slight intensity\",\n",
    "        63: \"Rain with Moderate intensity\",\n",
    "        65: \"Rain with Heavy intensity\",\n",
    "        66: \"Freezing Rain with Light intensity\",\n",
    "        67: \"Freezing Rain with Heavy intensity\",\n",
    "        71: \"Snowfall with Slight intensity\",\n",
    "        73: \"Snowfall with Moderate intensity\",\n",
    "        75: \"Snowfall with Heavy intensity\",\n",
    "        77: \"Snow grains\",\n",
    "        80: \"Rain showers with Slight intensity\",\n",
    "        81: \"Rain showers with Moderate intensity\",\n",
    "        82: \"Rain showers with Violent intensity\",\n",
    "        85: \"Snow showers with Slight\",\n",
    "        86: \"Snow showers with Heavy\",\n",
    "        95: \"Thunderstorm with Slight or moderate\",\n",
    "        96: \"Thunderstorm with slight hail\",\n",
    "        99: \"Thunderstorm with heavy hail\"\n",
    "    }\n",
    "\n",
    "    # Check if the code is in the dictionary\n",
    "    if code in weather_codes:\n",
    "        if code in [95, 96, 99] and city_location not in central_europe_cities:\n",
    "            return \"Thunderstorm with hail warning is not available outside Central Europe\"\n",
    "        else:\n",
    "            return weather_codes[code]\n",
    "    else:\n",
    "        return \"Unknown weather code\""
   ]
  },
  {
   "cell_type": "code",
   "execution_count": 6,
   "metadata": {},
   "outputs": [
    {
     "name": "stdout",
     "output_type": "stream",
     "text": [
      "Weather description: Freezing Rain: Heavy intensity\n"
     ]
    }
   ],
   "source": [
    "# Example usage:\n",
    "weather_code_input = 67\n",
    "city_location_input = \"Berlin\"  # Change to the actual city name\n",
    "weather_description = get_weather_description(weather_code_input, city_location_input)\n",
    "print(f\"Weather description: {weather_description}\")\n"
   ]
  },
  {
   "cell_type": "code",
   "execution_count": null,
   "metadata": {},
   "outputs": [],
   "source": [
    "# Example usage:\n",
    "weather_code_input = 95\n",
    "city_location_input = \"Berlin\"  # Change to the actual city name\n",
    "weather_description = get_weather_description(weather_code_input, city_location_input)\n",
    "print(f\"Weather description: {weather_description}\")"
   ]
  },
  {
   "cell_type": "markdown",
   "metadata": {},
   "source": [
    "### Get Latitude and Longitude of the City"
   ]
  },
  {
   "cell_type": "code",
   "execution_count": null,
   "metadata": {},
   "outputs": [],
   "source": [
    "# Get Latitude and Longitude of the City\n",
    "def get_lat_long_from_city(city_name: str, count: int = 1, language: str = 'en', format: str = 'json') -> Optional[Tuple[float, float]]:\n",
    "    api_url: str = \"https://geocoding-api.open-meteo.com/v1/search\"\n",
    "    params = {\n",
    "        'name': city_name,\n",
    "        'count': count,\n",
    "        'language': language,\n",
    "        'format': format\n",
    "    }\n",
    "\n",
    "    try:\n",
    "        response = requests.get(api_url, params=params)\n",
    "        response.raise_for_status()  # Raise an exception for bad responses (4xx and 5xx)\n",
    "        result = response.json()\n",
    "        if result:\n",
    "            longitude = result['results'][0]['longitude']\n",
    "            latitude = result['results'][0]['latitude']\n",
    "            return float(longitude), float(latitude)\n",
    "        else:\n",
    "            print(f\"Error: Unable to retrieve coordinates. API response: {result}\")\n",
    "            return None\n",
    "    except requests.exceptions.RequestException as e:\n",
    "        print(f\"Request Exception: {e}\")\n",
    "        return None\n",
    "    except Exception as e:\n",
    "        print(f\"Exception: {e}\")\n",
    "        return None"
   ]
  },
  {
   "cell_type": "code",
   "execution_count": 9,
   "metadata": {},
   "outputs": [
    {
     "name": "stdout",
     "output_type": "stream",
     "text": [
      "Longitude 74.35071\n",
      "Latitude 31.558\n"
     ]
    }
   ],
   "source": [
    "# Example usage\n",
    "city_name:str = \"Lahore\"\n",
    "coordinates = get_lat_long_from_city(city_name)\n",
    "if coordinates:\n",
    "    Longitude, Latitude = coordinates\n",
    "    print(\"Longitude\", Longitude)\n",
    "    print(\"Latitude\", Latitude)\n",
    "\n",
    "# print(\"Longitude\", Longitude)\n",
    "# print(\"Latitude\",Latitude)"
   ]
  },
  {
   "cell_type": "markdown",
   "metadata": {},
   "source": [
    "### UNIX Timestamp to date and time"
   ]
  },
  {
   "cell_type": "code",
   "execution_count": 15,
   "metadata": {},
   "outputs": [
    {
     "name": "stdout",
     "output_type": "stream",
     "text": [
      "13-12-2023 23:00\n"
     ]
    }
   ],
   "source": [
    "from datetime import datetime, timezone\n",
    "\n",
    "timestamp1 = 1702339200\n",
    "timestamp2 = 1702508400\n",
    "\n",
    "dt_object = datetime.fromtimestamp(timestamp2, timezone.utc)\n",
    "formatted_date_time = dt_object.strftime(f\"%d-%m-%Y %H:%M\")\n",
    "print(formatted_date_time)\n"
   ]
  }
 ],
 "metadata": {
  "kernelspec": {
   "display_name": "python-12-env",
   "language": "python",
   "name": "python3"
  },
  "language_info": {
   "codemirror_mode": {
    "name": "ipython",
    "version": 3
   },
   "file_extension": ".py",
   "mimetype": "text/x-python",
   "name": "python",
   "nbconvert_exporter": "python",
   "pygments_lexer": "ipython3",
   "version": "3.12.0"
  }
 },
 "nbformat": 4,
 "nbformat_minor": 2
}
