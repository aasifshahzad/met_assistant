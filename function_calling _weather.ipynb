{
 "cells": [
  {
   "cell_type": "code",
   "execution_count": 1,
   "metadata": {},
   "outputs": [],
   "source": [
    "from typing import Optional, List, Tuple, Dict\n",
    "from dotenv import load_dotenv, find_dotenv\n",
    "from datetime import datetime\n",
    "from openai import OpenAI\n",
    "import requests\n",
    "import json"
   ]
  },
  {
   "cell_type": "code",
   "execution_count": 2,
   "metadata": {},
   "outputs": [],
   "source": [
    "_ : bool = load_dotenv(\"E:/Python/.env\")"
   ]
  },
  {
   "cell_type": "code",
   "execution_count": 3,
   "metadata": {},
   "outputs": [],
   "source": [
    "client: OpenAI = OpenAI()"
   ]
  },
  {
   "cell_type": "markdown",
   "metadata": {},
   "source": [
    "### Backend API or External API (Hard Coded functions)"
   ]
  },
  {
   "cell_type": "code",
   "execution_count": 4,
   "metadata": {},
   "outputs": [
    {
     "name": "stdout",
     "output_type": "stream",
     "text": [
      "Longitude 74.35071\n",
      "Latitude 31.558\n"
     ]
    }
   ],
   "source": [
    "# Get Latitude and Longitude of the City\n",
    "def get_lat_long_from_city(city_name: str, count: int = 1, language: str = 'en', format: str = 'json') -> Optional[Tuple[float, float]]:\n",
    "    api_url: str = \"https://geocoding-api.open-meteo.com/v1/search\"\n",
    "    params = {\n",
    "        'name': city_name,\n",
    "        'count': count,\n",
    "        'language': language,\n",
    "        'format': format\n",
    "    }\n",
    "\n",
    "    try:\n",
    "        response = requests.get(api_url, params=params)\n",
    "        response.raise_for_status()  # Raise an exception for bad responses (4xx and 5xx)\n",
    "        result = response.json()\n",
    "        if result:\n",
    "            longitude = result['results'][0]['longitude']\n",
    "            latitude = result['results'][0]['latitude']\n",
    "            return float(longitude), float(latitude)\n",
    "        else:\n",
    "            print(f\"Error: Unable to retrieve coordinates. API response: {result}\")\n",
    "            return None\n",
    "    except requests.exceptions.RequestException as e:\n",
    "        print(f\"Request Exception: {e}\")\n",
    "        return None\n",
    "    except Exception as e:\n",
    "        print(f\"Exception: {e}\")\n",
    "        return None\n",
    "\n",
    "# Example usage\n",
    "city_name:str = \"Lahore\"\n",
    "coordinates = get_lat_long_from_city(city_name)\n",
    "if coordinates:\n",
    "    Longitude, Latitude = coordinates\n",
    "    print(\"Longitude\", Longitude)\n",
    "    print(\"Latitude\", Latitude)\n",
    "\n",
    "# print(\"Longitude\", Longitude)\n",
    "# print(\"Latitude\",Latitude)\n",
    "\n"
   ]
  },
  {
   "cell_type": "code",
   "execution_count": 5,
   "metadata": {},
   "outputs": [],
   "source": [
    "#Function description for \"get_lat_long_from_city\" :\n",
    "\n",
    "tools = [\n",
    "    {\n",
    "        \"type\": \"function\",\n",
    "        \"function\": {\n",
    "            \"name\": \"get_lat_long_from_city\",\n",
    "            \"description\": \"Get the latitude and longitude coordinates for a given city.\",\n",
    "            \"parameters\": {\n",
    "                \"type\": \"object\",\n",
    "                \"properties\": {\n",
    "                    \"city_name\": {\n",
    "                        \"type\": \"string\",\n",
    "                        \"description\": \"The name of the city for which coordinates are requested.\"\n",
    "                    },\n",
    "                    \"count\": {\n",
    "                        \"type\": \"integer\",\n",
    "                        \"description\": \"The number of results to retrieve (default is 1).\"\n",
    "                    },\n",
    "                    \"language\": {\n",
    "                        \"type\": \"string\",\n",
    "                        \"description\": \"The language for the response (default is 'en').\"\n",
    "                    },\n",
    "                    \"format\": {\n",
    "                        \"type\": \"string\",\n",
    "                        \"description\": \"The format of the response (default is 'json').\"\n",
    "                    }\n",
    "                },\n",
    "                \"required\": [\"city_name\"]\n",
    "            },\n",
    "            \"return\": {\n",
    "                \"type\": \"tuple\",\n",
    "                \"items\": [\n",
    "                    {\"type\": \"float\", \"description\": \"Longitude coordinate.\"},\n",
    "                    {\"type\": \"float\", \"description\": \"Latitude coordinate.\"}\n",
    "                ],\n",
    "                \"description\": \"Returns a tuple containing the longitude and latitude coordinates. Returns None in case of an error.\"\n",
    "            }\n",
    "        }\n",
    "    }\n",
    "]\n"
   ]
  },
  {
   "cell_type": "markdown",
   "metadata": {},
   "source": [
    "### API Endpoint for Weather Forecast   \n",
    "    https://api.open-meteo.com/v1/forecast?latitude=24.8608&longitude=67.0104&current=temperature_2m,relative_humidity_2m,apparent_temperature,is_day,weather_code,pressure_msl,surface_pressure,wind_speed_10m,wind_direction_10m,wind_gusts_10m"
   ]
  },
  {
   "cell_type": "code",
   "execution_count": 6,
   "metadata": {},
   "outputs": [
    {
     "name": "stdout",
     "output_type": "stream",
     "text": [
      "Location Data for Lahore\n",
      "Latitude: 31.558\n",
      "Longitude: 74.35071\n",
      "Elevation: 219.0 meters\n",
      "Timezone: GMT\n",
      "Date: 24-12-2023\n",
      "Time: 13:08:49\n",
      "        \n",
      "Current Weather Update for Lahore\n",
      "Temperature: 19.2°C\n",
      "Relative Humidity: 58%\n",
      "Is Day: Day\n",
      "Surface Pressure: 996.7 hPa\n",
      "Wind Speed : 4.0 km/h\n",
      "Wind Direction : 270°\n",
      "Wind Gusts : 10.8 km/h\n"
     ]
    }
   ],
   "source": [
    "#Get Weather Forecast and print results\n",
    "\n",
    "def get_weather_forecast(latitude: float, longitude: float) -> Optional[dict]:\n",
    "    api_url = \"https://api.open-meteo.com/v1/forecast\"\n",
    "    \n",
    "    # Define parameters for the API request\n",
    "    params = {\n",
    "        \"latitude\": latitude,\n",
    "        \"longitude\": longitude,\n",
    "        \"current\": \"temperature_2m,relative_humidity_2m,apparent_temperature,is_day,weather_code,pressure_msl,surface_pressure,wind_speed_10m,wind_direction_10m,wind_gusts_10m\"\n",
    "    }\n",
    "\n",
    "    try:\n",
    "        # Make a GET request to the API\n",
    "        response = requests.get(api_url, params=params)\n",
    "\n",
    "        # Check if the request was successful (status code 200)\n",
    "        if response.status_code == 200:\n",
    "            # Parse and return the JSON data from the response\n",
    "            return response.json()\n",
    "        else:\n",
    "            # Print an error message if the request was not successful\n",
    "            print(f\"Error: {response.status_code} - {response.text}\")\n",
    "            return None\n",
    "    except Exception as e:\n",
    "        # Handle exceptions, e.g., network issues\n",
    "        print(f\"Exception: {e}\")\n",
    "        return None\n",
    "\n",
    "# Example usage\n",
    "forecast_data = get_weather_forecast(Latitude, Longitude)\n",
    "\n",
    "# Print the entire forecast data (modify as needed)\n",
    "if forecast_data:\n",
    "    print(f\"Location Data for {city_name}\")\n",
    "    print(f\"Latitude: {Latitude}\")\n",
    "    print(f\"Longitude: {Longitude}\")\n",
    "    print(f\"Elevation: {forecast_data['elevation']} meters\")\n",
    "    print(f\"Timezone: {forecast_data['timezone']}\")\n",
    "    current_date = datetime.now().date()\n",
    "    current_time = datetime.now().time()\n",
    "    formatted_date = current_date.strftime(\"%d-%m-%Y\")\n",
    "    formatted_time = current_time.strftime(\"%H:%M:%S\")\n",
    "    # Format the date as dd-mm-yyyy\n",
    "    print(f\"Date: {formatted_date}\")\n",
    "    # Format the time as HH:MM:SS\n",
    "    print(f\"Time: {formatted_time}\")\n",
    "    current_data = forecast_data.get('current', {})\n",
    "    print(f\"        \")\n",
    "    if current_data:\n",
    "        print(f\"Current Weather Update for {city_name}\")\n",
    "        print(f\"Temperature: {current_data['temperature_2m']}°C\")\n",
    "        print(f\"Relative Humidity: {current_data['relative_humidity_2m']}%\")\n",
    "        print(f\"Is Day: {'Day' if current_data['is_day'] else 'Night'}\")\n",
    "        print(f\"Surface Pressure: {current_data['surface_pressure']} hPa\")\n",
    "        print(f\"Wind Speed : {current_data['wind_speed_10m']} km/h\")\n",
    "        print(f\"Wind Direction : {current_data['wind_direction_10m']}°\")\n",
    "        print(f\"Wind Gusts : {current_data['wind_gusts_10m']} km/h\")\n",
    "    else:\n",
    "        print(\"Failed to retrieve weather forecast.\")\n",
    "\n"
   ]
  },
  {
   "cell_type": "code",
   "execution_count": 7,
   "metadata": {},
   "outputs": [],
   "source": [
    "#Function description for \"get_weather_forecast\" :\n",
    "\n",
    "# tools = [\n",
    "#     {\n",
    "#         \"type\": \"function\",\n",
    "#         \"function\": {\n",
    "#             \"name\": \"get_weather_forecast\",\n",
    "#             \"description\": \"Get the weather forecast for a given location based on latitude and longitude.\",\n",
    "#             \"parameters\": {\n",
    "#                 \"type\": \"object\",\n",
    "#                 \"properties\": {\n",
    "#                     \"latitude\": {\n",
    "#                         \"type\": \"float\",\n",
    "#                         \"description\": \"The latitude coordinate of the location.\"\n",
    "#                     },\n",
    "#                     \"longitude\": {\n",
    "#                         \"type\": \"float\",\n",
    "#                         \"description\": \"The longitude coordinate of the location.\"\n",
    "#                     }\n",
    "#                 },\n",
    "#                 \"required\": [\"latitude\", \"longitude\"]\n",
    "#             },\n",
    "#             \"return\": {\n",
    "#                 \"type\": \"object\",\n",
    "#                 \"description\": \"Returns a dictionary containing various weather forecast parameters. Returns None in case of an error.\",\n",
    "#                 \"example\": {\n",
    "#                     \"temperature_2m\": 25.0,\n",
    "#                     \"relative_humidity_2m\": 60,\n",
    "#                     \"apparent_temperature\": 26.5,\n",
    "#                     \"is_day\": True,\n",
    "#                     \"weather_code\": \"partly_cloudy_day\",\n",
    "#                     \"pressure_msl\": 1013.2,\n",
    "#                     \"surface_pressure\": 1011.5,\n",
    "#                     \"wind_speed_10m\": 5.0,\n",
    "#                     \"wind_direction_10m\": 120,\n",
    "#                     \"wind_gusts_10m\": 8.0\n",
    "#                 }\n",
    "#             }\n",
    "#         }\n",
    "#     }\n",
    "# ]\n"
   ]
  },
  {
   "cell_type": "code",
   "execution_count": 8,
   "metadata": {},
   "outputs": [
    {
     "name": "stdout",
     "output_type": "stream",
     "text": [
      "{\n",
      "    \"Location Data\": {\n",
      "        \"Latitude\": 31.558,\n",
      "        \"Longitude\": 74.35071,\n",
      "        \"Elevation\": 219.0,\n",
      "        \"Timezone\": \"GMT\",\n",
      "        \"Date\": \"24-12-2023\",\n",
      "        \"Time\": \"13:09:24\"\n",
      "    },\n",
      "    \"Current Weather Update\": {\n",
      "        \"Temperature\": 19.2,\n",
      "        \"Relative Humidity\": 58,\n",
      "        \"Is Day\": \"Day\",\n",
      "        \"Surface Pressure\": 996.7,\n",
      "        \"Wind Speed\": 4.0,\n",
      "        \"Wind Direction\": 270,\n",
      "        \"Wind Gusts\": 10.8\n",
      "    }\n",
      "}\n"
     ]
    }
   ],
   "source": [
    "def get_current_weather(city_name: str) -> str:\n",
    "    Longitude , Latitude = get_lat_long_from_city(city_name)\n",
    "    forecast_data = get_weather_forecast(Latitude, Longitude)\n",
    "    # Prepare data for JSON dump\n",
    "    result: Dict[str, Dict] = {}\n",
    "    # Check if forecast_data is available\n",
    "    if forecast_data:\n",
    "        result[\"Location Data\"] = {\n",
    "            \"Latitude\": Latitude,\n",
    "            \"Longitude\": Longitude,\n",
    "            \"Elevation\": forecast_data.get('elevation'),\n",
    "            \"Timezone\": forecast_data.get('timezone'),\n",
    "            \"Date\": datetime.now().date().strftime(\"%d-%m-%Y\"),\n",
    "            \"Time\": datetime.now().time().strftime(\"%H:%M:%S\")\n",
    "        }\n",
    "    else:\n",
    "        print(\"Failed to retrieve Location Data.\")\n",
    "\n",
    "    current_data = forecast_data.get('current', {})\n",
    "    if current_data:\n",
    "        result[\"Current Weather Update\"] = {\n",
    "            \"Temperature\": current_data.get('temperature_2m'),\n",
    "            \"Relative Humidity\": current_data.get('relative_humidity_2m'),\n",
    "            \"Is Day\": 'Day' if current_data.get('is_day') else 'Night',\n",
    "            \"Surface Pressure\": current_data.get('surface_pressure'),\n",
    "            \"Wind Speed\": current_data.get('wind_speed_10m'),\n",
    "            \"Wind Direction\": current_data.get('wind_direction_10m'),\n",
    "            \"Wind Gusts\": current_data.get('wind_gusts_10m')\n",
    "        }\n",
    "    else:\n",
    "        print(\"Failed to retrieve weather forecast.\")\n",
    "\n",
    "    # Dump the result as JSON\n",
    "    return json.dumps(result, indent=4)\n",
    "\n",
    "\n",
    "\n",
    "\n",
    "city_name = input(\"Enter a city name to enquire weather: \")\n",
    "print(get_current_weather(city_name))"
   ]
  },
  {
   "cell_type": "code",
   "execution_count": 9,
   "metadata": {},
   "outputs": [],
   "source": [
    "#Function description for \"get_current_weather\" :\n",
    "\n",
    "# tools = [\n",
    "#     {\n",
    "#         \"type\": \"function\",\n",
    "#         \"function\": {\n",
    "#             \"name\": \"get_current_weather\",\n",
    "#             \"description\": \"Get the current weather data for a given city, including location details and weather updates.\",\n",
    "#             \"parameters\": {\n",
    "#                 \"type\": \"object\",\n",
    "#                 \"properties\": {\n",
    "#                     \"city_name\": {\n",
    "#                         \"type\": \"string\",\n",
    "#                         \"description\": \"The name of the city for which weather data is requested.\"\n",
    "#                     }\n",
    "#                 },\n",
    "#                 \"required\": [\"city_name\"]\n",
    "#             },\n",
    "#             \"return\": {\n",
    "#                 \"type\": \"string\",\n",
    "#                 \"description\": \"Returns a JSON-formatted string containing location details and current weather updates. Returns an empty string if data retrieval fails.\",\n",
    "#                 \"example\": \"\"\"\n",
    "#                     {\n",
    "#                         \"Location Data\": {\n",
    "#                             \"Latitude\": 37.7749,\n",
    "#                             \"Longitude\": -122.4194,\n",
    "#                             \"Elevation\": 60.0,\n",
    "#                             \"Timezone\": \"America/Los_Angeles\",\n",
    "#                             \"Date\": \"12-02-2023\",\n",
    "#                             \"Time\": \"14:30:00\"\n",
    "#                         },\n",
    "#                         \"Current Weather Update\": {\n",
    "#                             \"Temperature\": 20.5,\n",
    "#                             \"Relative Humidity\": 75,\n",
    "#                             \"Is Day\": \"Day\",\n",
    "#                             \"Surface Pressure\": 1012.3,\n",
    "#                             \"Wind Speed\": 5.0,\n",
    "#                             \"Wind Direction\": 150,\n",
    "#                             \"Wind Gusts\": 8.0\n",
    "#                         }\n",
    "#                     }\n",
    "#                     \"\"\"\n",
    "#             }\n",
    "#         }\n",
    "#     }\n",
    "# ]\n"
   ]
  },
  {
   "cell_type": "markdown",
   "metadata": {},
   "source": [
    "### Types\n",
    "\n",
    "https://github.com/openai/openai-python/tree/main/src/openai/types/chat\n"
   ]
  },
  {
   "cell_type": "code",
   "execution_count": 10,
   "metadata": {},
   "outputs": [],
   "source": [
    "from openai.types.chat.chat_completion import ChatCompletion,ChatCompletionMessage\n",
    "from IPython.display import display  # Assuming you are using IPython\n",
    "\n",
    "\n",
    "def run_conversation(main_request: str)->str:\n",
    "    #Step 1 send the conversation and available function to the model\n",
    "    messages = [\n",
    "        {\n",
    "            \"role\": \"user\",\n",
    "            \"content\": main_request,\n",
    "        }\n",
    "    ]\n",
    "    \n",
    "    tools = [\n",
    "        #Function description for \"get_lat_long_from_city\" :\n",
    "        {\n",
    "            \"type\": \"function\",\n",
    "            \"function\": {\n",
    "                \"name\": \"get_lat_long_from_city\",\n",
    "                \"description\": \"Get the latitude and longitude coordinates for a given city.\",\n",
    "                \"parameters\": {\n",
    "                    \"type\": \"object\",\n",
    "                    \"properties\": {\n",
    "                        \"city_name\": {\n",
    "                            \"type\": \"string\",\n",
    "                            \"description\": \"The name of the city for which coordinates are requested.\"\n",
    "                        },\n",
    "                        \"count\": {\n",
    "                            \"type\": \"integer\",\n",
    "                            \"description\": \"The number of results to retrieve (default is 1).\"\n",
    "                        },\n",
    "                        \"language\": {\n",
    "                            \"type\": \"string\",\n",
    "                            \"description\": \"The language for the response (default is 'en').\"\n",
    "                        },\n",
    "                        \"format\": {\n",
    "                            \"type\": \"string\",\n",
    "                            \"description\": \"The format of the response (default is 'json').\"\n",
    "                        }\n",
    "                    },\n",
    "                    \"required\": [\"city_name\"]\n",
    "                },\n",
    "                \"return\": {\n",
    "                    \"type\": \"tuple\",\n",
    "                    \"items\": [\n",
    "                        {\"type\": \"float\", \"description\": \"Longitude coordinate.\"},\n",
    "                        {\"type\": \"float\", \"description\": \"Latitude coordinate.\"}\n",
    "                    ],\n",
    "                    \"description\": \"Returns a tuple containing the longitude and latitude coordinates. Returns None in case of an error.\"\n",
    "                }\n",
    "            }\n",
    "        },\n",
    "        #Function description for \"get_weather_forecast\" :\n",
    "        {\n",
    "            \"type\": \"function\",\n",
    "            \"function\": {\n",
    "                \"name\": \"get_weather_forecast\",\n",
    "                \"description\": \"Get the weather forecast for a given location based on latitude and longitude.\",\n",
    "                \"parameters\": {\n",
    "                    \"type\": \"object\",\n",
    "                    \"properties\": {\n",
    "                        # \"latitude\": {\n",
    "                        #     \"type\": \"float\",\n",
    "                        #     \"description\": \"The latitude coordinate of the location.\"\n",
    "                        # },\n",
    "                        # \"longitude\": {\n",
    "                        #     \"type\": \"float\",\n",
    "                        #     \"description\": \"The longitude coordinate of the location.\"\n",
    "                        # }\n",
    "                        \"latitude\": {\n",
    "                            \"type\": \"string\",\n",
    "                            \"format\": \"float\",  # Use \"format\" to specify the type\n",
    "                            \"description\": \"The latitude coordinate of the location.\"\n",
    "                        },\n",
    "                        \"longitude\": {\n",
    "                            \"type\": \"string\",\n",
    "                            \"format\": \"float\",  # Use \"format\" to specify the type\n",
    "                            \"description\": \"The longitude coordinate of the location.\"\n",
    "                        }\n",
    "                    },\n",
    "                    \"required\": [\"latitude\", \"longitude\"]\n",
    "                },\n",
    "                \"return\": {\n",
    "                    \"type\": \"object\",\n",
    "                    \"description\": \"Returns a dictionary containing various weather forecast parameters. Returns None in case of an error.\",\n",
    "                    \"example\": {\n",
    "                        \"temperature_2m\": 25.0,\n",
    "                        \"relative_humidity_2m\": 60,\n",
    "                        \"apparent_temperature\": 26.5,\n",
    "                        \"is_day\": True,\n",
    "                        \"weather_code\": \"partly_cloudy_day\",\n",
    "                        \"pressure_msl\": 1013.2,\n",
    "                        \"surface_pressure\": 1011.5,\n",
    "                        \"wind_speed_10m\": 5.0,\n",
    "                        \"wind_direction_10m\": 120,\n",
    "                        \"wind_gusts_10m\": 8.0\n",
    "                    }\n",
    "                }\n",
    "            }\n",
    "        },\n",
    "        #Function description for \"get_current_weather\" :\n",
    "        {\n",
    "            \"type\": \"function\",\n",
    "            \"function\": {\n",
    "                \"name\": \"get_current_weather\",\n",
    "                \"description\": \"Get the current weather data for a given city, including location details and weather updates.\",\n",
    "                \"parameters\": {\n",
    "                    \"type\": \"object\",\n",
    "                    \"properties\": {\n",
    "                        \"city_name\": {\n",
    "                            \"type\": \"string\",\n",
    "                            \"description\": \"The name of the city for which weather data is requested.\"\n",
    "                        }\n",
    "                    },\n",
    "                    \"required\": [\"city_name\"]\n",
    "                },\n",
    "                \"return\": {\n",
    "                    \"type\": \"string\",\n",
    "                    \"description\": \"Returns a JSON-formatted string containing location details and current weather updates. Returns an empty string if data retrieval fails.\",\n",
    "                    \"example\": \"\"\"\n",
    "                        {\n",
    "                            \"Location Data\": {\n",
    "                                \"Latitude\": 37.7749,\n",
    "                                \"Longitude\": -122.4194,\n",
    "                                \"Elevation\": 60.0,\n",
    "                                \"Timezone\": \"America/Los_Angeles\",\n",
    "                                \"Date\": \"12-02-2023\",\n",
    "                                \"Time\": \"14:30:00\"\n",
    "                            },\n",
    "                            \"Current Weather Update\": {\n",
    "                                \"Temperature\": 20.5,\n",
    "                                \"Relative Humidity\": 75,\n",
    "                                \"Is Day\": \"Day\",\n",
    "                                \"Surface Pressure\": 1012.3,\n",
    "                                \"Wind Speed\": 5.0,\n",
    "                                \"Wind Direction\": 150,\n",
    "                                \"Wind Gusts\": 8.0\n",
    "                            }\n",
    "                        }\n",
    "                        \"\"\"\n",
    "                }\n",
    "            }\n",
    "        }\n",
    "    ]\n",
    "    \n",
    "    # First Request\n",
    "    response: ChatCompletion = client.chat.completions.create(\n",
    "        model= \"gpt-3.5-turbo-1106\",\n",
    "        messages= messages,\n",
    "        tools= tools,\n",
    "        tool_choice= \"auto\", # auto is default, but we'll be explicit\n",
    "    )\n",
    "    response_message: ChatCompletion = response.choices[0].message\n",
    "    display(\" *First Response: \", dict(response_message))\n",
    "    \n",
    "    tool_calls = response_message.tool_calls\n",
    "    display(\"* First Response Tool Calls: \", list(tool_calls))\n",
    "    \n",
    "    #Step 2 Check if the model want to call a function\n",
    "    if tool_calls:\n",
    "        #Step 3 Call the function\n",
    "        #Note: The JSON response may not always be valid, be sure to handle errors\n",
    "        available_functions = {\n",
    "            \"get_lat_long_from_city\": get_lat_long_from_city,\n",
    "            \"get_weather_forecast\": get_weather_forecast,\n",
    "            \"get_current_weather\": get_current_weather,\n",
    "        }\n",
    "        \n",
    "    #Step 4 Send the info for each function call and function response to the model\n",
    "        messages.append(response_message)\n",
    "        \n",
    "        for tool_call in tool_calls:\n",
    "            function_name = tool_call.function.name\n",
    "            function_to_call = available_functions[function_name]\n",
    "            # Mapping function arguments dynamically\n",
    "\n",
    "            function_args_mapping = {\n",
    "                \"get_lat_long_from_city\": {\n",
    "                    \"city_name\": None,\n",
    "                    \"count\": 1,\n",
    "                    \"language\": \"en\",\n",
    "                    \"format\": \"json\",\n",
    "                },\n",
    "                \"get_weather_forecast\": {\n",
    "                    \"latitude\": None,\n",
    "                    \"longitude\": None,\n",
    "                },\n",
    "                \"get_current_weather\": {\n",
    "                    \"city_name\": None,\n",
    "                },\n",
    "            }\n",
    "\n",
    "            # Get the corresponding function_args\n",
    "            function_args = function_args_mapping.get(function_name, {})\n",
    "\n",
    "            # Check if tool_call.function.arguments is a JSON-formatted string\n",
    "            try:\n",
    "                parsed_arguments = json.loads(tool_call.function.arguments)\n",
    "                # Update function_args with parsed arguments\n",
    "                function_args.update(parsed_arguments)\n",
    "            except json.JSONDecodeError:\n",
    "                print(\"Error parsing JSON from tool_call.function.arguments\")\n",
    "                        \n",
    "            # Call the function with dynamically obtained arguments\n",
    "            function_response = function_to_call(**function_args)\n",
    "            \n",
    "            messages.append(\n",
    "                {\n",
    "                    \"tool_call_id\": tool_call.id,\n",
    "                    \"role\": \"tool\",\n",
    "                    \"name\": function_name,\n",
    "                    \"content\": function_response,\n",
    "                })\n",
    "    display(\"* Second Request Message: \", list(messages))\n",
    "            \n",
    "    print(\"Messages before second API call:\", messages)\n",
    "            \n",
    "    second_response: ChatCompletion = client.chat.completions.create(\n",
    "                model=\"gpt-3.5-turbo-1106\",\n",
    "                messages=messages,\n",
    "            )\n",
    "            \n",
    "    print(\"* Second Response: \", dict(second_response))\n",
    "    return second_response.choices[0].message.content"
   ]
  },
  {
   "cell_type": "code",
   "execution_count": 11,
   "metadata": {},
   "outputs": [
    {
     "data": {
      "text/plain": [
       "' *First Response: '"
      ]
     },
     "metadata": {},
     "output_type": "display_data"
    },
    {
     "data": {
      "text/plain": [
       "{'content': None,\n",
       " 'role': 'assistant',\n",
       " 'function_call': None,\n",
       " 'tool_calls': [ChatCompletionMessageToolCall(id='call_VHRgOJZRelLKQfKC293qLjpB', function=Function(arguments='{\"city_name\":\"Islamabad\"}', name='get_current_weather'), type='function')]}"
      ]
     },
     "metadata": {},
     "output_type": "display_data"
    },
    {
     "data": {
      "text/plain": [
       "'* First Response Tool Calls: '"
      ]
     },
     "metadata": {},
     "output_type": "display_data"
    },
    {
     "data": {
      "text/plain": [
       "[ChatCompletionMessageToolCall(id='call_VHRgOJZRelLKQfKC293qLjpB', function=Function(arguments='{\"city_name\":\"Islamabad\"}', name='get_current_weather'), type='function')]"
      ]
     },
     "metadata": {},
     "output_type": "display_data"
    },
    {
     "data": {
      "text/plain": [
       "'* Second Request Message: '"
      ]
     },
     "metadata": {},
     "output_type": "display_data"
    },
    {
     "data": {
      "text/plain": [
       "[{'role': 'user', 'content': \"What's the weather like in Islamabad?\"},\n",
       " ChatCompletionMessage(content=None, role='assistant', function_call=None, tool_calls=[ChatCompletionMessageToolCall(id='call_VHRgOJZRelLKQfKC293qLjpB', function=Function(arguments='{\"city_name\":\"Islamabad\"}', name='get_current_weather'), type='function')]),\n",
       " {'tool_call_id': 'call_VHRgOJZRelLKQfKC293qLjpB',\n",
       "  'role': 'tool',\n",
       "  'name': 'get_current_weather',\n",
       "  'content': '{\\n    \"Location Data\": {\\n        \"Latitude\": 33.72148,\\n        \"Longitude\": 73.04329,\\n        \"Elevation\": 583.0,\\n        \"Timezone\": \"GMT\",\\n        \"Date\": \"24-12-2023\",\\n        \"Time\": \"13:09:55\"\\n    },\\n    \"Current Weather Update\": {\\n        \"Temperature\": 19.6,\\n        \"Relative Humidity\": 38,\\n        \"Is Day\": \"Day\",\\n        \"Surface Pressure\": 956.1,\\n        \"Wind Speed\": 7.3,\\n        \"Wind Direction\": 259,\\n        \"Wind Gusts\": 17.6\\n    }\\n}'}]"
      ]
     },
     "metadata": {},
     "output_type": "display_data"
    },
    {
     "name": "stdout",
     "output_type": "stream",
     "text": [
      "Messages before second API call: [{'role': 'user', 'content': \"What's the weather like in Islamabad?\"}, ChatCompletionMessage(content=None, role='assistant', function_call=None, tool_calls=[ChatCompletionMessageToolCall(id='call_VHRgOJZRelLKQfKC293qLjpB', function=Function(arguments='{\"city_name\":\"Islamabad\"}', name='get_current_weather'), type='function')]), {'tool_call_id': 'call_VHRgOJZRelLKQfKC293qLjpB', 'role': 'tool', 'name': 'get_current_weather', 'content': '{\\n    \"Location Data\": {\\n        \"Latitude\": 33.72148,\\n        \"Longitude\": 73.04329,\\n        \"Elevation\": 583.0,\\n        \"Timezone\": \"GMT\",\\n        \"Date\": \"24-12-2023\",\\n        \"Time\": \"13:09:55\"\\n    },\\n    \"Current Weather Update\": {\\n        \"Temperature\": 19.6,\\n        \"Relative Humidity\": 38,\\n        \"Is Day\": \"Day\",\\n        \"Surface Pressure\": 956.1,\\n        \"Wind Speed\": 7.3,\\n        \"Wind Direction\": 259,\\n        \"Wind Gusts\": 17.6\\n    }\\n}'}]\n",
      "* Second Response:  {'id': 'chatcmpl-8ZDqW61lDiQt1B0U6vKPkthZ21YMk', 'choices': [Choice(finish_reason='stop', index=0, message=ChatCompletionMessage(content='The current weather in Islamabad is 19.6 degrees Celsius with a relative humidity of 38%. It is daytime with a wind speed of 7.3 km/h coming from the west-southwest direction, and wind gusts of 17.6 km/h.', role='assistant', function_call=None, tool_calls=None), logprobs=None)], 'created': 1703405396, 'model': 'gpt-3.5-turbo-1106', 'object': 'chat.completion', 'system_fingerprint': 'fp_772e8125bb', 'usage': CompletionUsage(completion_tokens=55, prompt_tokens=186, total_tokens=241)}\n"
     ]
    },
    {
     "data": {
      "text/plain": [
       "'The current weather in Islamabad is 19.6 degrees Celsius with a relative humidity of 38%. It is daytime with a wind speed of 7.3 km/h coming from the west-southwest direction, and wind gusts of 17.6 km/h.'"
      ]
     },
     "execution_count": 11,
     "metadata": {},
     "output_type": "execute_result"
    }
   ],
   "source": [
    "run_conversation(\"What's the weather like in Islamabad?\")"
   ]
  },
  {
   "cell_type": "code",
   "execution_count": 14,
   "metadata": {},
   "outputs": [
    {
     "data": {
      "text/plain": [
       "' *First Response: '"
      ]
     },
     "metadata": {},
     "output_type": "display_data"
    },
    {
     "data": {
      "text/plain": [
       "{'content': None,\n",
       " 'role': 'assistant',\n",
       " 'function_call': None,\n",
       " 'tool_calls': [ChatCompletionMessageToolCall(id='call_jt93WKANU82EmidgspsWhh5i', function=Function(arguments='{\"city_name\":\"New York\"}', name='get_current_weather'), type='function')]}"
      ]
     },
     "metadata": {},
     "output_type": "display_data"
    },
    {
     "data": {
      "text/plain": [
       "'* First Response Tool Calls: '"
      ]
     },
     "metadata": {},
     "output_type": "display_data"
    },
    {
     "data": {
      "text/plain": [
       "[ChatCompletionMessageToolCall(id='call_jt93WKANU82EmidgspsWhh5i', function=Function(arguments='{\"city_name\":\"New York\"}', name='get_current_weather'), type='function')]"
      ]
     },
     "metadata": {},
     "output_type": "display_data"
    },
    {
     "data": {
      "text/plain": [
       "'* Second Request Message: '"
      ]
     },
     "metadata": {},
     "output_type": "display_data"
    },
    {
     "data": {
      "text/plain": [
       "[{'role': 'user', 'content': \"What's the weather like in new york?\"},\n",
       " ChatCompletionMessage(content=None, role='assistant', function_call=None, tool_calls=[ChatCompletionMessageToolCall(id='call_jt93WKANU82EmidgspsWhh5i', function=Function(arguments='{\"city_name\":\"New York\"}', name='get_current_weather'), type='function')]),\n",
       " {'tool_call_id': 'call_jt93WKANU82EmidgspsWhh5i',\n",
       "  'role': 'tool',\n",
       "  'name': 'get_current_weather',\n",
       "  'content': '{\\n    \"Location Data\": {\\n        \"Latitude\": 40.71427,\\n        \"Longitude\": -74.00597,\\n        \"Elevation\": 51.0,\\n        \"Timezone\": \"GMT\",\\n        \"Date\": \"24-12-2023\",\\n        \"Time\": \"13:12:27\"\\n    },\\n    \"Current Weather Update\": {\\n        \"Temperature\": 3.4,\\n        \"Relative Humidity\": 94,\\n        \"Is Day\": \"Night\",\\n        \"Surface Pressure\": 1023.2,\\n        \"Wind Speed\": 4.3,\\n        \"Wind Direction\": 360,\\n        \"Wind Gusts\": 12.6\\n    }\\n}'}]"
      ]
     },
     "metadata": {},
     "output_type": "display_data"
    },
    {
     "name": "stdout",
     "output_type": "stream",
     "text": [
      "Messages before second API call: [{'role': 'user', 'content': \"What's the weather like in new york?\"}, ChatCompletionMessage(content=None, role='assistant', function_call=None, tool_calls=[ChatCompletionMessageToolCall(id='call_jt93WKANU82EmidgspsWhh5i', function=Function(arguments='{\"city_name\":\"New York\"}', name='get_current_weather'), type='function')]), {'tool_call_id': 'call_jt93WKANU82EmidgspsWhh5i', 'role': 'tool', 'name': 'get_current_weather', 'content': '{\\n    \"Location Data\": {\\n        \"Latitude\": 40.71427,\\n        \"Longitude\": -74.00597,\\n        \"Elevation\": 51.0,\\n        \"Timezone\": \"GMT\",\\n        \"Date\": \"24-12-2023\",\\n        \"Time\": \"13:12:27\"\\n    },\\n    \"Current Weather Update\": {\\n        \"Temperature\": 3.4,\\n        \"Relative Humidity\": 94,\\n        \"Is Day\": \"Night\",\\n        \"Surface Pressure\": 1023.2,\\n        \"Wind Speed\": 4.3,\\n        \"Wind Direction\": 360,\\n        \"Wind Gusts\": 12.6\\n    }\\n}'}]\n",
      "* Second Response:  {'id': 'chatcmpl-8ZDsynDbropu3wbouTPhE3qRAQ2Gn', 'choices': [Choice(finish_reason='stop', index=0, message=ChatCompletionMessage(content='The current weather in New York is 3.4°C with a relative humidity of 94%. The wind speed is 4.3 km/h, and the wind direction is coming from the north. It is currently nighttime in New York.', role='assistant', function_call=None, tool_calls=None), logprobs=None)], 'created': 1703405548, 'model': 'gpt-3.5-turbo-1106', 'object': 'chat.completion', 'system_fingerprint': 'fp_772e8125bb', 'usage': CompletionUsage(completion_tokens=49, prompt_tokens=188, total_tokens=237)}\n"
     ]
    },
    {
     "data": {
      "text/plain": [
       "'The current weather in New York is 3.4°C with a relative humidity of 94%. The wind speed is 4.3 km/h, and the wind direction is coming from the north. It is currently nighttime in New York.'"
      ]
     },
     "execution_count": 14,
     "metadata": {},
     "output_type": "execute_result"
    }
   ],
   "source": [
    "run_conversation(\"What's the weather like in new york?\")"
   ]
  },
  {
   "cell_type": "code",
   "execution_count": 15,
   "metadata": {},
   "outputs": [
    {
     "data": {
      "text/plain": [
       "' *First Response: '"
      ]
     },
     "metadata": {},
     "output_type": "display_data"
    },
    {
     "data": {
      "text/plain": [
       "{'content': None,\n",
       " 'role': 'assistant',\n",
       " 'function_call': None,\n",
       " 'tool_calls': [ChatCompletionMessageToolCall(id='call_BuqLBwqJ6Jeh7toxcpwHqR7O', function=Function(arguments='{\"city_name\":\"Karachi\"}', name='get_current_weather'), type='function')]}"
      ]
     },
     "metadata": {},
     "output_type": "display_data"
    },
    {
     "data": {
      "text/plain": [
       "'* First Response Tool Calls: '"
      ]
     },
     "metadata": {},
     "output_type": "display_data"
    },
    {
     "data": {
      "text/plain": [
       "[ChatCompletionMessageToolCall(id='call_BuqLBwqJ6Jeh7toxcpwHqR7O', function=Function(arguments='{\"city_name\":\"Karachi\"}', name='get_current_weather'), type='function')]"
      ]
     },
     "metadata": {},
     "output_type": "display_data"
    },
    {
     "data": {
      "text/plain": [
       "'* Second Request Message: '"
      ]
     },
     "metadata": {},
     "output_type": "display_data"
    },
    {
     "data": {
      "text/plain": [
       "[{'role': 'user', 'content': 'What is current temperature in karachi?'},\n",
       " ChatCompletionMessage(content=None, role='assistant', function_call=None, tool_calls=[ChatCompletionMessageToolCall(id='call_BuqLBwqJ6Jeh7toxcpwHqR7O', function=Function(arguments='{\"city_name\":\"Karachi\"}', name='get_current_weather'), type='function')]),\n",
       " {'tool_call_id': 'call_BuqLBwqJ6Jeh7toxcpwHqR7O',\n",
       "  'role': 'tool',\n",
       "  'name': 'get_current_weather',\n",
       "  'content': '{\\n    \"Location Data\": {\\n        \"Latitude\": 24.8608,\\n        \"Longitude\": 67.0104,\\n        \"Elevation\": 8.0,\\n        \"Timezone\": \"GMT\",\\n        \"Date\": \"24-12-2023\",\\n        \"Time\": \"13:12:39\"\\n    },\\n    \"Current Weather Update\": {\\n        \"Temperature\": 28.3,\\n        \"Relative Humidity\": 25,\\n        \"Is Day\": \"Day\",\\n        \"Surface Pressure\": 1018.1,\\n        \"Wind Speed\": 18.1,\\n        \"Wind Direction\": 46,\\n        \"Wind Gusts\": 34.6\\n    }\\n}'}]"
      ]
     },
     "metadata": {},
     "output_type": "display_data"
    },
    {
     "name": "stdout",
     "output_type": "stream",
     "text": [
      "Messages before second API call: [{'role': 'user', 'content': 'What is current temperature in karachi?'}, ChatCompletionMessage(content=None, role='assistant', function_call=None, tool_calls=[ChatCompletionMessageToolCall(id='call_BuqLBwqJ6Jeh7toxcpwHqR7O', function=Function(arguments='{\"city_name\":\"Karachi\"}', name='get_current_weather'), type='function')]), {'tool_call_id': 'call_BuqLBwqJ6Jeh7toxcpwHqR7O', 'role': 'tool', 'name': 'get_current_weather', 'content': '{\\n    \"Location Data\": {\\n        \"Latitude\": 24.8608,\\n        \"Longitude\": 67.0104,\\n        \"Elevation\": 8.0,\\n        \"Timezone\": \"GMT\",\\n        \"Date\": \"24-12-2023\",\\n        \"Time\": \"13:12:39\"\\n    },\\n    \"Current Weather Update\": {\\n        \"Temperature\": 28.3,\\n        \"Relative Humidity\": 25,\\n        \"Is Day\": \"Day\",\\n        \"Surface Pressure\": 1018.1,\\n        \"Wind Speed\": 18.1,\\n        \"Wind Direction\": 46,\\n        \"Wind Gusts\": 34.6\\n    }\\n}'}]\n"
     ]
    },
    {
     "ename": "RateLimitError",
     "evalue": "Error code: 429 - {'error': {'message': 'Rate limit reached for gpt-3.5-turbo-1106 in organization org-ht1bFJLVzyk8OjxNFlQzPUUf on requests per min (RPM): Limit 3, Used 3, Requested 1. Please try again in 20s. Visit https://platform.openai.com/account/rate-limits to learn more. You can increase your rate limit by adding a payment method to your account at https://platform.openai.com/account/billing.', 'type': 'requests', 'param': None, 'code': 'rate_limit_exceeded'}}",
     "output_type": "error",
     "traceback": [
      "\u001b[1;31m---------------------------------------------------------------------------\u001b[0m",
      "\u001b[1;31mRateLimitError\u001b[0m                            Traceback (most recent call last)",
      "Cell \u001b[1;32mIn[15], line 1\u001b[0m\n\u001b[1;32m----> 1\u001b[0m \u001b[43mrun_conversation\u001b[49m\u001b[43m(\u001b[49m\u001b[38;5;124;43m\"\u001b[39;49m\u001b[38;5;124;43mWhat is current temperature in karachi?\u001b[39;49m\u001b[38;5;124;43m\"\u001b[39;49m\u001b[43m)\u001b[49m\n",
      "Cell \u001b[1;32mIn[10], line 218\u001b[0m, in \u001b[0;36mrun_conversation\u001b[1;34m(main_request)\u001b[0m\n\u001b[0;32m    214\u001b[0m display(\u001b[38;5;124m\"\u001b[39m\u001b[38;5;124m* Second Request Message: \u001b[39m\u001b[38;5;124m\"\u001b[39m, \u001b[38;5;28mlist\u001b[39m(messages))\n\u001b[0;32m    216\u001b[0m \u001b[38;5;28mprint\u001b[39m(\u001b[38;5;124m\"\u001b[39m\u001b[38;5;124mMessages before second API call:\u001b[39m\u001b[38;5;124m\"\u001b[39m, messages)\n\u001b[1;32m--> 218\u001b[0m second_response: ChatCompletion \u001b[38;5;241m=\u001b[39m \u001b[43mclient\u001b[49m\u001b[38;5;241;43m.\u001b[39;49m\u001b[43mchat\u001b[49m\u001b[38;5;241;43m.\u001b[39;49m\u001b[43mcompletions\u001b[49m\u001b[38;5;241;43m.\u001b[39;49m\u001b[43mcreate\u001b[49m\u001b[43m(\u001b[49m\n\u001b[0;32m    219\u001b[0m \u001b[43m            \u001b[49m\u001b[43mmodel\u001b[49m\u001b[38;5;241;43m=\u001b[39;49m\u001b[38;5;124;43m\"\u001b[39;49m\u001b[38;5;124;43mgpt-3.5-turbo-1106\u001b[39;49m\u001b[38;5;124;43m\"\u001b[39;49m\u001b[43m,\u001b[49m\n\u001b[0;32m    220\u001b[0m \u001b[43m            \u001b[49m\u001b[43mmessages\u001b[49m\u001b[38;5;241;43m=\u001b[39;49m\u001b[43mmessages\u001b[49m\u001b[43m,\u001b[49m\n\u001b[0;32m    221\u001b[0m \u001b[43m        \u001b[49m\u001b[43m)\u001b[49m\n\u001b[0;32m    223\u001b[0m \u001b[38;5;28mprint\u001b[39m(\u001b[38;5;124m\"\u001b[39m\u001b[38;5;124m* Second Response: \u001b[39m\u001b[38;5;124m\"\u001b[39m, \u001b[38;5;28mdict\u001b[39m(second_response))\n\u001b[0;32m    224\u001b[0m \u001b[38;5;28;01mreturn\u001b[39;00m second_response\u001b[38;5;241m.\u001b[39mchoices[\u001b[38;5;241m0\u001b[39m]\u001b[38;5;241m.\u001b[39mmessage\u001b[38;5;241m.\u001b[39mcontent\n",
      "File \u001b[1;32mc:\\Users\\asif1\\anaconda3\\envs\\python-12-env\\Lib\\site-packages\\openai\\_utils\\_utils.py:299\u001b[0m, in \u001b[0;36mrequired_args.<locals>.inner.<locals>.wrapper\u001b[1;34m(*args, **kwargs)\u001b[0m\n\u001b[0;32m    297\u001b[0m             msg \u001b[38;5;241m=\u001b[39m \u001b[38;5;124mf\u001b[39m\u001b[38;5;124m\"\u001b[39m\u001b[38;5;124mMissing required argument: \u001b[39m\u001b[38;5;132;01m{\u001b[39;00mquote(missing[\u001b[38;5;241m0\u001b[39m])\u001b[38;5;132;01m}\u001b[39;00m\u001b[38;5;124m\"\u001b[39m\n\u001b[0;32m    298\u001b[0m     \u001b[38;5;28;01mraise\u001b[39;00m \u001b[38;5;167;01mTypeError\u001b[39;00m(msg)\n\u001b[1;32m--> 299\u001b[0m \u001b[38;5;28;01mreturn\u001b[39;00m \u001b[43mfunc\u001b[49m\u001b[43m(\u001b[49m\u001b[38;5;241;43m*\u001b[39;49m\u001b[43margs\u001b[49m\u001b[43m,\u001b[49m\u001b[43m \u001b[49m\u001b[38;5;241;43m*\u001b[39;49m\u001b[38;5;241;43m*\u001b[39;49m\u001b[43mkwargs\u001b[49m\u001b[43m)\u001b[49m\n",
      "File \u001b[1;32mc:\\Users\\asif1\\anaconda3\\envs\\python-12-env\\Lib\\site-packages\\openai\\resources\\chat\\completions.py:598\u001b[0m, in \u001b[0;36mCompletions.create\u001b[1;34m(self, messages, model, frequency_penalty, function_call, functions, logit_bias, max_tokens, n, presence_penalty, response_format, seed, stop, stream, temperature, tool_choice, tools, top_p, user, extra_headers, extra_query, extra_body, timeout)\u001b[0m\n\u001b[0;32m    551\u001b[0m \u001b[38;5;129m@required_args\u001b[39m([\u001b[38;5;124m\"\u001b[39m\u001b[38;5;124mmessages\u001b[39m\u001b[38;5;124m\"\u001b[39m, \u001b[38;5;124m\"\u001b[39m\u001b[38;5;124mmodel\u001b[39m\u001b[38;5;124m\"\u001b[39m], [\u001b[38;5;124m\"\u001b[39m\u001b[38;5;124mmessages\u001b[39m\u001b[38;5;124m\"\u001b[39m, \u001b[38;5;124m\"\u001b[39m\u001b[38;5;124mmodel\u001b[39m\u001b[38;5;124m\"\u001b[39m, \u001b[38;5;124m\"\u001b[39m\u001b[38;5;124mstream\u001b[39m\u001b[38;5;124m\"\u001b[39m])\n\u001b[0;32m    552\u001b[0m \u001b[38;5;28;01mdef\u001b[39;00m \u001b[38;5;21mcreate\u001b[39m(\n\u001b[0;32m    553\u001b[0m     \u001b[38;5;28mself\u001b[39m,\n\u001b[1;32m   (...)\u001b[0m\n\u001b[0;32m    596\u001b[0m     timeout: \u001b[38;5;28mfloat\u001b[39m \u001b[38;5;241m|\u001b[39m httpx\u001b[38;5;241m.\u001b[39mTimeout \u001b[38;5;241m|\u001b[39m \u001b[38;5;28;01mNone\u001b[39;00m \u001b[38;5;241m|\u001b[39m NotGiven \u001b[38;5;241m=\u001b[39m NOT_GIVEN,\n\u001b[0;32m    597\u001b[0m ) \u001b[38;5;241m-\u001b[39m\u001b[38;5;241m>\u001b[39m ChatCompletion \u001b[38;5;241m|\u001b[39m Stream[ChatCompletionChunk]:\n\u001b[1;32m--> 598\u001b[0m     \u001b[38;5;28;01mreturn\u001b[39;00m \u001b[38;5;28;43mself\u001b[39;49m\u001b[38;5;241;43m.\u001b[39;49m\u001b[43m_post\u001b[49m\u001b[43m(\u001b[49m\n\u001b[0;32m    599\u001b[0m \u001b[43m        \u001b[49m\u001b[38;5;124;43m\"\u001b[39;49m\u001b[38;5;124;43m/chat/completions\u001b[39;49m\u001b[38;5;124;43m\"\u001b[39;49m\u001b[43m,\u001b[49m\n\u001b[0;32m    600\u001b[0m \u001b[43m        \u001b[49m\u001b[43mbody\u001b[49m\u001b[38;5;241;43m=\u001b[39;49m\u001b[43mmaybe_transform\u001b[49m\u001b[43m(\u001b[49m\n\u001b[0;32m    601\u001b[0m \u001b[43m            \u001b[49m\u001b[43m{\u001b[49m\n\u001b[0;32m    602\u001b[0m \u001b[43m                \u001b[49m\u001b[38;5;124;43m\"\u001b[39;49m\u001b[38;5;124;43mmessages\u001b[39;49m\u001b[38;5;124;43m\"\u001b[39;49m\u001b[43m:\u001b[49m\u001b[43m \u001b[49m\u001b[43mmessages\u001b[49m\u001b[43m,\u001b[49m\n\u001b[0;32m    603\u001b[0m \u001b[43m                \u001b[49m\u001b[38;5;124;43m\"\u001b[39;49m\u001b[38;5;124;43mmodel\u001b[39;49m\u001b[38;5;124;43m\"\u001b[39;49m\u001b[43m:\u001b[49m\u001b[43m \u001b[49m\u001b[43mmodel\u001b[49m\u001b[43m,\u001b[49m\n\u001b[0;32m    604\u001b[0m \u001b[43m                \u001b[49m\u001b[38;5;124;43m\"\u001b[39;49m\u001b[38;5;124;43mfrequency_penalty\u001b[39;49m\u001b[38;5;124;43m\"\u001b[39;49m\u001b[43m:\u001b[49m\u001b[43m \u001b[49m\u001b[43mfrequency_penalty\u001b[49m\u001b[43m,\u001b[49m\n\u001b[0;32m    605\u001b[0m \u001b[43m                \u001b[49m\u001b[38;5;124;43m\"\u001b[39;49m\u001b[38;5;124;43mfunction_call\u001b[39;49m\u001b[38;5;124;43m\"\u001b[39;49m\u001b[43m:\u001b[49m\u001b[43m \u001b[49m\u001b[43mfunction_call\u001b[49m\u001b[43m,\u001b[49m\n\u001b[0;32m    606\u001b[0m \u001b[43m                \u001b[49m\u001b[38;5;124;43m\"\u001b[39;49m\u001b[38;5;124;43mfunctions\u001b[39;49m\u001b[38;5;124;43m\"\u001b[39;49m\u001b[43m:\u001b[49m\u001b[43m \u001b[49m\u001b[43mfunctions\u001b[49m\u001b[43m,\u001b[49m\n\u001b[0;32m    607\u001b[0m \u001b[43m                \u001b[49m\u001b[38;5;124;43m\"\u001b[39;49m\u001b[38;5;124;43mlogit_bias\u001b[39;49m\u001b[38;5;124;43m\"\u001b[39;49m\u001b[43m:\u001b[49m\u001b[43m \u001b[49m\u001b[43mlogit_bias\u001b[49m\u001b[43m,\u001b[49m\n\u001b[0;32m    608\u001b[0m \u001b[43m                \u001b[49m\u001b[38;5;124;43m\"\u001b[39;49m\u001b[38;5;124;43mmax_tokens\u001b[39;49m\u001b[38;5;124;43m\"\u001b[39;49m\u001b[43m:\u001b[49m\u001b[43m \u001b[49m\u001b[43mmax_tokens\u001b[49m\u001b[43m,\u001b[49m\n\u001b[0;32m    609\u001b[0m \u001b[43m                \u001b[49m\u001b[38;5;124;43m\"\u001b[39;49m\u001b[38;5;124;43mn\u001b[39;49m\u001b[38;5;124;43m\"\u001b[39;49m\u001b[43m:\u001b[49m\u001b[43m \u001b[49m\u001b[43mn\u001b[49m\u001b[43m,\u001b[49m\n\u001b[0;32m    610\u001b[0m \u001b[43m                \u001b[49m\u001b[38;5;124;43m\"\u001b[39;49m\u001b[38;5;124;43mpresence_penalty\u001b[39;49m\u001b[38;5;124;43m\"\u001b[39;49m\u001b[43m:\u001b[49m\u001b[43m \u001b[49m\u001b[43mpresence_penalty\u001b[49m\u001b[43m,\u001b[49m\n\u001b[0;32m    611\u001b[0m \u001b[43m                \u001b[49m\u001b[38;5;124;43m\"\u001b[39;49m\u001b[38;5;124;43mresponse_format\u001b[39;49m\u001b[38;5;124;43m\"\u001b[39;49m\u001b[43m:\u001b[49m\u001b[43m \u001b[49m\u001b[43mresponse_format\u001b[49m\u001b[43m,\u001b[49m\n\u001b[0;32m    612\u001b[0m \u001b[43m                \u001b[49m\u001b[38;5;124;43m\"\u001b[39;49m\u001b[38;5;124;43mseed\u001b[39;49m\u001b[38;5;124;43m\"\u001b[39;49m\u001b[43m:\u001b[49m\u001b[43m \u001b[49m\u001b[43mseed\u001b[49m\u001b[43m,\u001b[49m\n\u001b[0;32m    613\u001b[0m \u001b[43m                \u001b[49m\u001b[38;5;124;43m\"\u001b[39;49m\u001b[38;5;124;43mstop\u001b[39;49m\u001b[38;5;124;43m\"\u001b[39;49m\u001b[43m:\u001b[49m\u001b[43m \u001b[49m\u001b[43mstop\u001b[49m\u001b[43m,\u001b[49m\n\u001b[0;32m    614\u001b[0m \u001b[43m                \u001b[49m\u001b[38;5;124;43m\"\u001b[39;49m\u001b[38;5;124;43mstream\u001b[39;49m\u001b[38;5;124;43m\"\u001b[39;49m\u001b[43m:\u001b[49m\u001b[43m \u001b[49m\u001b[43mstream\u001b[49m\u001b[43m,\u001b[49m\n\u001b[0;32m    615\u001b[0m \u001b[43m                \u001b[49m\u001b[38;5;124;43m\"\u001b[39;49m\u001b[38;5;124;43mtemperature\u001b[39;49m\u001b[38;5;124;43m\"\u001b[39;49m\u001b[43m:\u001b[49m\u001b[43m \u001b[49m\u001b[43mtemperature\u001b[49m\u001b[43m,\u001b[49m\n\u001b[0;32m    616\u001b[0m \u001b[43m                \u001b[49m\u001b[38;5;124;43m\"\u001b[39;49m\u001b[38;5;124;43mtool_choice\u001b[39;49m\u001b[38;5;124;43m\"\u001b[39;49m\u001b[43m:\u001b[49m\u001b[43m \u001b[49m\u001b[43mtool_choice\u001b[49m\u001b[43m,\u001b[49m\n\u001b[0;32m    617\u001b[0m \u001b[43m                \u001b[49m\u001b[38;5;124;43m\"\u001b[39;49m\u001b[38;5;124;43mtools\u001b[39;49m\u001b[38;5;124;43m\"\u001b[39;49m\u001b[43m:\u001b[49m\u001b[43m \u001b[49m\u001b[43mtools\u001b[49m\u001b[43m,\u001b[49m\n\u001b[0;32m    618\u001b[0m \u001b[43m                \u001b[49m\u001b[38;5;124;43m\"\u001b[39;49m\u001b[38;5;124;43mtop_p\u001b[39;49m\u001b[38;5;124;43m\"\u001b[39;49m\u001b[43m:\u001b[49m\u001b[43m \u001b[49m\u001b[43mtop_p\u001b[49m\u001b[43m,\u001b[49m\n\u001b[0;32m    619\u001b[0m \u001b[43m                \u001b[49m\u001b[38;5;124;43m\"\u001b[39;49m\u001b[38;5;124;43muser\u001b[39;49m\u001b[38;5;124;43m\"\u001b[39;49m\u001b[43m:\u001b[49m\u001b[43m \u001b[49m\u001b[43muser\u001b[49m\u001b[43m,\u001b[49m\n\u001b[0;32m    620\u001b[0m \u001b[43m            \u001b[49m\u001b[43m}\u001b[49m\u001b[43m,\u001b[49m\n\u001b[0;32m    621\u001b[0m \u001b[43m            \u001b[49m\u001b[43mcompletion_create_params\u001b[49m\u001b[38;5;241;43m.\u001b[39;49m\u001b[43mCompletionCreateParams\u001b[49m\u001b[43m,\u001b[49m\n\u001b[0;32m    622\u001b[0m \u001b[43m        \u001b[49m\u001b[43m)\u001b[49m\u001b[43m,\u001b[49m\n\u001b[0;32m    623\u001b[0m \u001b[43m        \u001b[49m\u001b[43moptions\u001b[49m\u001b[38;5;241;43m=\u001b[39;49m\u001b[43mmake_request_options\u001b[49m\u001b[43m(\u001b[49m\n\u001b[0;32m    624\u001b[0m \u001b[43m            \u001b[49m\u001b[43mextra_headers\u001b[49m\u001b[38;5;241;43m=\u001b[39;49m\u001b[43mextra_headers\u001b[49m\u001b[43m,\u001b[49m\u001b[43m \u001b[49m\u001b[43mextra_query\u001b[49m\u001b[38;5;241;43m=\u001b[39;49m\u001b[43mextra_query\u001b[49m\u001b[43m,\u001b[49m\u001b[43m \u001b[49m\u001b[43mextra_body\u001b[49m\u001b[38;5;241;43m=\u001b[39;49m\u001b[43mextra_body\u001b[49m\u001b[43m,\u001b[49m\u001b[43m \u001b[49m\u001b[43mtimeout\u001b[49m\u001b[38;5;241;43m=\u001b[39;49m\u001b[43mtimeout\u001b[49m\n\u001b[0;32m    625\u001b[0m \u001b[43m        \u001b[49m\u001b[43m)\u001b[49m\u001b[43m,\u001b[49m\n\u001b[0;32m    626\u001b[0m \u001b[43m        \u001b[49m\u001b[43mcast_to\u001b[49m\u001b[38;5;241;43m=\u001b[39;49m\u001b[43mChatCompletion\u001b[49m\u001b[43m,\u001b[49m\n\u001b[0;32m    627\u001b[0m \u001b[43m        \u001b[49m\u001b[43mstream\u001b[49m\u001b[38;5;241;43m=\u001b[39;49m\u001b[43mstream\u001b[49m\u001b[43m \u001b[49m\u001b[38;5;129;43;01mor\u001b[39;49;00m\u001b[43m \u001b[49m\u001b[38;5;28;43;01mFalse\u001b[39;49;00m\u001b[43m,\u001b[49m\n\u001b[0;32m    628\u001b[0m \u001b[43m        \u001b[49m\u001b[43mstream_cls\u001b[49m\u001b[38;5;241;43m=\u001b[39;49m\u001b[43mStream\u001b[49m\u001b[43m[\u001b[49m\u001b[43mChatCompletionChunk\u001b[49m\u001b[43m]\u001b[49m\u001b[43m,\u001b[49m\n\u001b[0;32m    629\u001b[0m \u001b[43m    \u001b[49m\u001b[43m)\u001b[49m\n",
      "File \u001b[1;32mc:\\Users\\asif1\\anaconda3\\envs\\python-12-env\\Lib\\site-packages\\openai\\_base_client.py:1063\u001b[0m, in \u001b[0;36mSyncAPIClient.post\u001b[1;34m(self, path, cast_to, body, options, files, stream, stream_cls)\u001b[0m\n\u001b[0;32m   1049\u001b[0m \u001b[38;5;28;01mdef\u001b[39;00m \u001b[38;5;21mpost\u001b[39m(\n\u001b[0;32m   1050\u001b[0m     \u001b[38;5;28mself\u001b[39m,\n\u001b[0;32m   1051\u001b[0m     path: \u001b[38;5;28mstr\u001b[39m,\n\u001b[1;32m   (...)\u001b[0m\n\u001b[0;32m   1058\u001b[0m     stream_cls: \u001b[38;5;28mtype\u001b[39m[_StreamT] \u001b[38;5;241m|\u001b[39m \u001b[38;5;28;01mNone\u001b[39;00m \u001b[38;5;241m=\u001b[39m \u001b[38;5;28;01mNone\u001b[39;00m,\n\u001b[0;32m   1059\u001b[0m ) \u001b[38;5;241m-\u001b[39m\u001b[38;5;241m>\u001b[39m ResponseT \u001b[38;5;241m|\u001b[39m _StreamT:\n\u001b[0;32m   1060\u001b[0m     opts \u001b[38;5;241m=\u001b[39m FinalRequestOptions\u001b[38;5;241m.\u001b[39mconstruct(\n\u001b[0;32m   1061\u001b[0m         method\u001b[38;5;241m=\u001b[39m\u001b[38;5;124m\"\u001b[39m\u001b[38;5;124mpost\u001b[39m\u001b[38;5;124m\"\u001b[39m, url\u001b[38;5;241m=\u001b[39mpath, json_data\u001b[38;5;241m=\u001b[39mbody, files\u001b[38;5;241m=\u001b[39mto_httpx_files(files), \u001b[38;5;241m*\u001b[39m\u001b[38;5;241m*\u001b[39moptions\n\u001b[0;32m   1062\u001b[0m     )\n\u001b[1;32m-> 1063\u001b[0m     \u001b[38;5;28;01mreturn\u001b[39;00m cast(ResponseT, \u001b[38;5;28;43mself\u001b[39;49m\u001b[38;5;241;43m.\u001b[39;49m\u001b[43mrequest\u001b[49m\u001b[43m(\u001b[49m\u001b[43mcast_to\u001b[49m\u001b[43m,\u001b[49m\u001b[43m \u001b[49m\u001b[43mopts\u001b[49m\u001b[43m,\u001b[49m\u001b[43m \u001b[49m\u001b[43mstream\u001b[49m\u001b[38;5;241;43m=\u001b[39;49m\u001b[43mstream\u001b[49m\u001b[43m,\u001b[49m\u001b[43m \u001b[49m\u001b[43mstream_cls\u001b[49m\u001b[38;5;241;43m=\u001b[39;49m\u001b[43mstream_cls\u001b[49m\u001b[43m)\u001b[49m)\n",
      "File \u001b[1;32mc:\\Users\\asif1\\anaconda3\\envs\\python-12-env\\Lib\\site-packages\\openai\\_base_client.py:842\u001b[0m, in \u001b[0;36mSyncAPIClient.request\u001b[1;34m(self, cast_to, options, remaining_retries, stream, stream_cls)\u001b[0m\n\u001b[0;32m    833\u001b[0m \u001b[38;5;28;01mdef\u001b[39;00m \u001b[38;5;21mrequest\u001b[39m(\n\u001b[0;32m    834\u001b[0m     \u001b[38;5;28mself\u001b[39m,\n\u001b[0;32m    835\u001b[0m     cast_to: Type[ResponseT],\n\u001b[1;32m   (...)\u001b[0m\n\u001b[0;32m    840\u001b[0m     stream_cls: \u001b[38;5;28mtype\u001b[39m[_StreamT] \u001b[38;5;241m|\u001b[39m \u001b[38;5;28;01mNone\u001b[39;00m \u001b[38;5;241m=\u001b[39m \u001b[38;5;28;01mNone\u001b[39;00m,\n\u001b[0;32m    841\u001b[0m ) \u001b[38;5;241m-\u001b[39m\u001b[38;5;241m>\u001b[39m ResponseT \u001b[38;5;241m|\u001b[39m _StreamT:\n\u001b[1;32m--> 842\u001b[0m     \u001b[38;5;28;01mreturn\u001b[39;00m \u001b[38;5;28;43mself\u001b[39;49m\u001b[38;5;241;43m.\u001b[39;49m\u001b[43m_request\u001b[49m\u001b[43m(\u001b[49m\n\u001b[0;32m    843\u001b[0m \u001b[43m        \u001b[49m\u001b[43mcast_to\u001b[49m\u001b[38;5;241;43m=\u001b[39;49m\u001b[43mcast_to\u001b[49m\u001b[43m,\u001b[49m\n\u001b[0;32m    844\u001b[0m \u001b[43m        \u001b[49m\u001b[43moptions\u001b[49m\u001b[38;5;241;43m=\u001b[39;49m\u001b[43moptions\u001b[49m\u001b[43m,\u001b[49m\n\u001b[0;32m    845\u001b[0m \u001b[43m        \u001b[49m\u001b[43mstream\u001b[49m\u001b[38;5;241;43m=\u001b[39;49m\u001b[43mstream\u001b[49m\u001b[43m,\u001b[49m\n\u001b[0;32m    846\u001b[0m \u001b[43m        \u001b[49m\u001b[43mstream_cls\u001b[49m\u001b[38;5;241;43m=\u001b[39;49m\u001b[43mstream_cls\u001b[49m\u001b[43m,\u001b[49m\n\u001b[0;32m    847\u001b[0m \u001b[43m        \u001b[49m\u001b[43mremaining_retries\u001b[49m\u001b[38;5;241;43m=\u001b[39;49m\u001b[43mremaining_retries\u001b[49m\u001b[43m,\u001b[49m\n\u001b[0;32m    848\u001b[0m \u001b[43m    \u001b[49m\u001b[43m)\u001b[49m\n",
      "File \u001b[1;32mc:\\Users\\asif1\\anaconda3\\envs\\python-12-env\\Lib\\site-packages\\openai\\_base_client.py:873\u001b[0m, in \u001b[0;36mSyncAPIClient._request\u001b[1;34m(self, cast_to, options, remaining_retries, stream, stream_cls)\u001b[0m\n\u001b[0;32m    871\u001b[0m \u001b[38;5;28;01mexcept\u001b[39;00m httpx\u001b[38;5;241m.\u001b[39mHTTPStatusError \u001b[38;5;28;01mas\u001b[39;00m err:  \u001b[38;5;66;03m# thrown on 4xx and 5xx status code\u001b[39;00m\n\u001b[0;32m    872\u001b[0m     \u001b[38;5;28;01mif\u001b[39;00m retries \u001b[38;5;241m>\u001b[39m \u001b[38;5;241m0\u001b[39m \u001b[38;5;129;01mand\u001b[39;00m \u001b[38;5;28mself\u001b[39m\u001b[38;5;241m.\u001b[39m_should_retry(err\u001b[38;5;241m.\u001b[39mresponse):\n\u001b[1;32m--> 873\u001b[0m         \u001b[38;5;28;01mreturn\u001b[39;00m \u001b[38;5;28;43mself\u001b[39;49m\u001b[38;5;241;43m.\u001b[39;49m\u001b[43m_retry_request\u001b[49m\u001b[43m(\u001b[49m\n\u001b[0;32m    874\u001b[0m \u001b[43m            \u001b[49m\u001b[43moptions\u001b[49m\u001b[43m,\u001b[49m\n\u001b[0;32m    875\u001b[0m \u001b[43m            \u001b[49m\u001b[43mcast_to\u001b[49m\u001b[43m,\u001b[49m\n\u001b[0;32m    876\u001b[0m \u001b[43m            \u001b[49m\u001b[43mretries\u001b[49m\u001b[43m,\u001b[49m\n\u001b[0;32m    877\u001b[0m \u001b[43m            \u001b[49m\u001b[43merr\u001b[49m\u001b[38;5;241;43m.\u001b[39;49m\u001b[43mresponse\u001b[49m\u001b[38;5;241;43m.\u001b[39;49m\u001b[43mheaders\u001b[49m\u001b[43m,\u001b[49m\n\u001b[0;32m    878\u001b[0m \u001b[43m            \u001b[49m\u001b[43mstream\u001b[49m\u001b[38;5;241;43m=\u001b[39;49m\u001b[43mstream\u001b[49m\u001b[43m,\u001b[49m\n\u001b[0;32m    879\u001b[0m \u001b[43m            \u001b[49m\u001b[43mstream_cls\u001b[49m\u001b[38;5;241;43m=\u001b[39;49m\u001b[43mstream_cls\u001b[49m\u001b[43m,\u001b[49m\n\u001b[0;32m    880\u001b[0m \u001b[43m        \u001b[49m\u001b[43m)\u001b[49m\n\u001b[0;32m    882\u001b[0m     \u001b[38;5;66;03m# If the response is streamed then we need to explicitly read the response\u001b[39;00m\n\u001b[0;32m    883\u001b[0m     \u001b[38;5;66;03m# to completion before attempting to access the response text.\u001b[39;00m\n\u001b[0;32m    884\u001b[0m     err\u001b[38;5;241m.\u001b[39mresponse\u001b[38;5;241m.\u001b[39mread()\n",
      "File \u001b[1;32mc:\\Users\\asif1\\anaconda3\\envs\\python-12-env\\Lib\\site-packages\\openai\\_base_client.py:933\u001b[0m, in \u001b[0;36mSyncAPIClient._retry_request\u001b[1;34m(self, options, cast_to, remaining_retries, response_headers, stream, stream_cls)\u001b[0m\n\u001b[0;32m    929\u001b[0m \u001b[38;5;66;03m# In a synchronous context we are blocking the entire thread. Up to the library user to run the client in a\u001b[39;00m\n\u001b[0;32m    930\u001b[0m \u001b[38;5;66;03m# different thread if necessary.\u001b[39;00m\n\u001b[0;32m    931\u001b[0m time\u001b[38;5;241m.\u001b[39msleep(timeout)\n\u001b[1;32m--> 933\u001b[0m \u001b[38;5;28;01mreturn\u001b[39;00m \u001b[38;5;28;43mself\u001b[39;49m\u001b[38;5;241;43m.\u001b[39;49m\u001b[43m_request\u001b[49m\u001b[43m(\u001b[49m\n\u001b[0;32m    934\u001b[0m \u001b[43m    \u001b[49m\u001b[43moptions\u001b[49m\u001b[38;5;241;43m=\u001b[39;49m\u001b[43moptions\u001b[49m\u001b[43m,\u001b[49m\n\u001b[0;32m    935\u001b[0m \u001b[43m    \u001b[49m\u001b[43mcast_to\u001b[49m\u001b[38;5;241;43m=\u001b[39;49m\u001b[43mcast_to\u001b[49m\u001b[43m,\u001b[49m\n\u001b[0;32m    936\u001b[0m \u001b[43m    \u001b[49m\u001b[43mremaining_retries\u001b[49m\u001b[38;5;241;43m=\u001b[39;49m\u001b[43mremaining\u001b[49m\u001b[43m,\u001b[49m\n\u001b[0;32m    937\u001b[0m \u001b[43m    \u001b[49m\u001b[43mstream\u001b[49m\u001b[38;5;241;43m=\u001b[39;49m\u001b[43mstream\u001b[49m\u001b[43m,\u001b[49m\n\u001b[0;32m    938\u001b[0m \u001b[43m    \u001b[49m\u001b[43mstream_cls\u001b[49m\u001b[38;5;241;43m=\u001b[39;49m\u001b[43mstream_cls\u001b[49m\u001b[43m,\u001b[49m\n\u001b[0;32m    939\u001b[0m \u001b[43m\u001b[49m\u001b[43m)\u001b[49m\n",
      "File \u001b[1;32mc:\\Users\\asif1\\anaconda3\\envs\\python-12-env\\Lib\\site-packages\\openai\\_base_client.py:873\u001b[0m, in \u001b[0;36mSyncAPIClient._request\u001b[1;34m(self, cast_to, options, remaining_retries, stream, stream_cls)\u001b[0m\n\u001b[0;32m    871\u001b[0m \u001b[38;5;28;01mexcept\u001b[39;00m httpx\u001b[38;5;241m.\u001b[39mHTTPStatusError \u001b[38;5;28;01mas\u001b[39;00m err:  \u001b[38;5;66;03m# thrown on 4xx and 5xx status code\u001b[39;00m\n\u001b[0;32m    872\u001b[0m     \u001b[38;5;28;01mif\u001b[39;00m retries \u001b[38;5;241m>\u001b[39m \u001b[38;5;241m0\u001b[39m \u001b[38;5;129;01mand\u001b[39;00m \u001b[38;5;28mself\u001b[39m\u001b[38;5;241m.\u001b[39m_should_retry(err\u001b[38;5;241m.\u001b[39mresponse):\n\u001b[1;32m--> 873\u001b[0m         \u001b[38;5;28;01mreturn\u001b[39;00m \u001b[38;5;28;43mself\u001b[39;49m\u001b[38;5;241;43m.\u001b[39;49m\u001b[43m_retry_request\u001b[49m\u001b[43m(\u001b[49m\n\u001b[0;32m    874\u001b[0m \u001b[43m            \u001b[49m\u001b[43moptions\u001b[49m\u001b[43m,\u001b[49m\n\u001b[0;32m    875\u001b[0m \u001b[43m            \u001b[49m\u001b[43mcast_to\u001b[49m\u001b[43m,\u001b[49m\n\u001b[0;32m    876\u001b[0m \u001b[43m            \u001b[49m\u001b[43mretries\u001b[49m\u001b[43m,\u001b[49m\n\u001b[0;32m    877\u001b[0m \u001b[43m            \u001b[49m\u001b[43merr\u001b[49m\u001b[38;5;241;43m.\u001b[39;49m\u001b[43mresponse\u001b[49m\u001b[38;5;241;43m.\u001b[39;49m\u001b[43mheaders\u001b[49m\u001b[43m,\u001b[49m\n\u001b[0;32m    878\u001b[0m \u001b[43m            \u001b[49m\u001b[43mstream\u001b[49m\u001b[38;5;241;43m=\u001b[39;49m\u001b[43mstream\u001b[49m\u001b[43m,\u001b[49m\n\u001b[0;32m    879\u001b[0m \u001b[43m            \u001b[49m\u001b[43mstream_cls\u001b[49m\u001b[38;5;241;43m=\u001b[39;49m\u001b[43mstream_cls\u001b[49m\u001b[43m,\u001b[49m\n\u001b[0;32m    880\u001b[0m \u001b[43m        \u001b[49m\u001b[43m)\u001b[49m\n\u001b[0;32m    882\u001b[0m     \u001b[38;5;66;03m# If the response is streamed then we need to explicitly read the response\u001b[39;00m\n\u001b[0;32m    883\u001b[0m     \u001b[38;5;66;03m# to completion before attempting to access the response text.\u001b[39;00m\n\u001b[0;32m    884\u001b[0m     err\u001b[38;5;241m.\u001b[39mresponse\u001b[38;5;241m.\u001b[39mread()\n",
      "File \u001b[1;32mc:\\Users\\asif1\\anaconda3\\envs\\python-12-env\\Lib\\site-packages\\openai\\_base_client.py:933\u001b[0m, in \u001b[0;36mSyncAPIClient._retry_request\u001b[1;34m(self, options, cast_to, remaining_retries, response_headers, stream, stream_cls)\u001b[0m\n\u001b[0;32m    929\u001b[0m \u001b[38;5;66;03m# In a synchronous context we are blocking the entire thread. Up to the library user to run the client in a\u001b[39;00m\n\u001b[0;32m    930\u001b[0m \u001b[38;5;66;03m# different thread if necessary.\u001b[39;00m\n\u001b[0;32m    931\u001b[0m time\u001b[38;5;241m.\u001b[39msleep(timeout)\n\u001b[1;32m--> 933\u001b[0m \u001b[38;5;28;01mreturn\u001b[39;00m \u001b[38;5;28;43mself\u001b[39;49m\u001b[38;5;241;43m.\u001b[39;49m\u001b[43m_request\u001b[49m\u001b[43m(\u001b[49m\n\u001b[0;32m    934\u001b[0m \u001b[43m    \u001b[49m\u001b[43moptions\u001b[49m\u001b[38;5;241;43m=\u001b[39;49m\u001b[43moptions\u001b[49m\u001b[43m,\u001b[49m\n\u001b[0;32m    935\u001b[0m \u001b[43m    \u001b[49m\u001b[43mcast_to\u001b[49m\u001b[38;5;241;43m=\u001b[39;49m\u001b[43mcast_to\u001b[49m\u001b[43m,\u001b[49m\n\u001b[0;32m    936\u001b[0m \u001b[43m    \u001b[49m\u001b[43mremaining_retries\u001b[49m\u001b[38;5;241;43m=\u001b[39;49m\u001b[43mremaining\u001b[49m\u001b[43m,\u001b[49m\n\u001b[0;32m    937\u001b[0m \u001b[43m    \u001b[49m\u001b[43mstream\u001b[49m\u001b[38;5;241;43m=\u001b[39;49m\u001b[43mstream\u001b[49m\u001b[43m,\u001b[49m\n\u001b[0;32m    938\u001b[0m \u001b[43m    \u001b[49m\u001b[43mstream_cls\u001b[49m\u001b[38;5;241;43m=\u001b[39;49m\u001b[43mstream_cls\u001b[49m\u001b[43m,\u001b[49m\n\u001b[0;32m    939\u001b[0m \u001b[43m\u001b[49m\u001b[43m)\u001b[49m\n",
      "File \u001b[1;32mc:\\Users\\asif1\\anaconda3\\envs\\python-12-env\\Lib\\site-packages\\openai\\_base_client.py:885\u001b[0m, in \u001b[0;36mSyncAPIClient._request\u001b[1;34m(self, cast_to, options, remaining_retries, stream, stream_cls)\u001b[0m\n\u001b[0;32m    882\u001b[0m     \u001b[38;5;66;03m# If the response is streamed then we need to explicitly read the response\u001b[39;00m\n\u001b[0;32m    883\u001b[0m     \u001b[38;5;66;03m# to completion before attempting to access the response text.\u001b[39;00m\n\u001b[0;32m    884\u001b[0m     err\u001b[38;5;241m.\u001b[39mresponse\u001b[38;5;241m.\u001b[39mread()\n\u001b[1;32m--> 885\u001b[0m     \u001b[38;5;28;01mraise\u001b[39;00m \u001b[38;5;28mself\u001b[39m\u001b[38;5;241m.\u001b[39m_make_status_error_from_response(err\u001b[38;5;241m.\u001b[39mresponse) \u001b[38;5;28;01mfrom\u001b[39;00m \u001b[38;5;28;01mNone\u001b[39;00m\n\u001b[0;32m    886\u001b[0m \u001b[38;5;28;01mexcept\u001b[39;00m httpx\u001b[38;5;241m.\u001b[39mTimeoutException \u001b[38;5;28;01mas\u001b[39;00m err:\n\u001b[0;32m    887\u001b[0m     \u001b[38;5;28;01mif\u001b[39;00m retries \u001b[38;5;241m>\u001b[39m \u001b[38;5;241m0\u001b[39m:\n",
      "\u001b[1;31mRateLimitError\u001b[0m: Error code: 429 - {'error': {'message': 'Rate limit reached for gpt-3.5-turbo-1106 in organization org-ht1bFJLVzyk8OjxNFlQzPUUf on requests per min (RPM): Limit 3, Used 3, Requested 1. Please try again in 20s. Visit https://platform.openai.com/account/rate-limits to learn more. You can increase your rate limit by adding a payment method to your account at https://platform.openai.com/account/billing.', 'type': 'requests', 'param': None, 'code': 'rate_limit_exceeded'}}"
     ]
    }
   ],
   "source": [
    "run_conversation(\"What is current temperature in karachi?\")"
   ]
  },
  {
   "cell_type": "code",
   "execution_count": 21,
   "metadata": {},
   "outputs": [
    {
     "data": {
      "text/plain": [
       "' *First Response: '"
      ]
     },
     "metadata": {},
     "output_type": "display_data"
    },
    {
     "data": {
      "text/plain": [
       "{'content': None,\n",
       " 'role': 'assistant',\n",
       " 'function_call': None,\n",
       " 'tool_calls': [ChatCompletionMessageToolCall(id='call_RMcw6bRXNRxJ0TE9E14XQRXM', function=Function(arguments='{\"city_name\":\"karachi\"}', name='get_current_weather'), type='function')]}"
      ]
     },
     "metadata": {},
     "output_type": "display_data"
    },
    {
     "data": {
      "text/plain": [
       "'* First Response Tool Calls: '"
      ]
     },
     "metadata": {},
     "output_type": "display_data"
    },
    {
     "data": {
      "text/plain": [
       "[ChatCompletionMessageToolCall(id='call_RMcw6bRXNRxJ0TE9E14XQRXM', function=Function(arguments='{\"city_name\":\"karachi\"}', name='get_current_weather'), type='function')]"
      ]
     },
     "metadata": {},
     "output_type": "display_data"
    },
    {
     "data": {
      "text/plain": [
       "'* Second Request Message: '"
      ]
     },
     "metadata": {},
     "output_type": "display_data"
    },
    {
     "data": {
      "text/plain": [
       "[{'role': 'user', 'content': 'what is uv index in karachi?'},\n",
       " ChatCompletionMessage(content=None, role='assistant', function_call=None, tool_calls=[ChatCompletionMessageToolCall(id='call_RMcw6bRXNRxJ0TE9E14XQRXM', function=Function(arguments='{\"city_name\":\"karachi\"}', name='get_current_weather'), type='function')]),\n",
       " {'tool_call_id': 'call_RMcw6bRXNRxJ0TE9E14XQRXM',\n",
       "  'role': 'tool',\n",
       "  'name': 'get_current_weather',\n",
       "  'content': '{\\n    \"Location Data\": {\\n        \"Latitude\": 24.8608,\\n        \"Longitude\": 67.0104,\\n        \"Elevation\": 8.0,\\n        \"Timezone\": \"GMT\",\\n        \"Date\": \"12-12-2023\",\\n        \"Time\": \"13:58:41\"\\n    },\\n    \"Current Weather Update\": {\\n        \"Temperature\": 28.8,\\n        \"Relative Humidity\": 31,\\n        \"Is Day\": \"Day\",\\n        \"Surface Pressure\": 1010.8,\\n        \"Wind Speed\": 8.0,\\n        \"Wind Direction\": 72,\\n        \"Wind Gusts\": 15.8\\n    }\\n}'}]"
      ]
     },
     "metadata": {},
     "output_type": "display_data"
    },
    {
     "name": "stdout",
     "output_type": "stream",
     "text": [
      "Messages before second API call: [{'role': 'user', 'content': 'what is uv index in karachi?'}, ChatCompletionMessage(content=None, role='assistant', function_call=None, tool_calls=[ChatCompletionMessageToolCall(id='call_RMcw6bRXNRxJ0TE9E14XQRXM', function=Function(arguments='{\"city_name\":\"karachi\"}', name='get_current_weather'), type='function')]), {'tool_call_id': 'call_RMcw6bRXNRxJ0TE9E14XQRXM', 'role': 'tool', 'name': 'get_current_weather', 'content': '{\\n    \"Location Data\": {\\n        \"Latitude\": 24.8608,\\n        \"Longitude\": 67.0104,\\n        \"Elevation\": 8.0,\\n        \"Timezone\": \"GMT\",\\n        \"Date\": \"12-12-2023\",\\n        \"Time\": \"13:58:41\"\\n    },\\n    \"Current Weather Update\": {\\n        \"Temperature\": 28.8,\\n        \"Relative Humidity\": 31,\\n        \"Is Day\": \"Day\",\\n        \"Surface Pressure\": 1010.8,\\n        \"Wind Speed\": 8.0,\\n        \"Wind Direction\": 72,\\n        \"Wind Gusts\": 15.8\\n    }\\n}'}]\n",
      "* Second Response:  {'id': 'chatcmpl-8Ust8KcDrHQ4eaOsva1PY0gT5qYdH', 'choices': [Choice(finish_reason='stop', index=0, message=ChatCompletionMessage(content='The UV index in Karachi is not available in the current weather data.', role='assistant', function_call=None, tool_calls=None))], 'created': 1702371522, 'model': 'gpt-3.5-turbo-1106', 'object': 'chat.completion', 'system_fingerprint': 'fp_f3efa6edfc', 'usage': CompletionUsage(completion_tokens=14, prompt_tokens=187, total_tokens=201)}\n"
     ]
    },
    {
     "data": {
      "text/plain": [
       "'The UV index in Karachi is not available in the current weather data.'"
      ]
     },
     "execution_count": 21,
     "metadata": {},
     "output_type": "execute_result"
    }
   ],
   "source": [
    "run_conversation(\"what is uv index in karachi?\")"
   ]
  }
 ],
 "metadata": {
  "kernelspec": {
   "display_name": "python-12-env",
   "language": "python",
   "name": "python3"
  },
  "language_info": {
   "codemirror_mode": {
    "name": "ipython",
    "version": 3
   },
   "file_extension": ".py",
   "mimetype": "text/x-python",
   "name": "python",
   "nbconvert_exporter": "python",
   "pygments_lexer": "ipython3",
   "version": "3.12.0"
  }
 },
 "nbformat": 4,
 "nbformat_minor": 2
}
