{
 "cells": [
  {
   "cell_type": "code",
   "execution_count": 1,
   "metadata": {},
   "outputs": [],
   "source": [
    "from typing import Optional, List, Tuple, Dict\n",
    "from dotenv import load_dotenv, find_dotenv\n",
    "from datetime import datetime\n",
    "from openai import OpenAI\n",
    "import requests\n",
    "import json"
   ]
  },
  {
   "cell_type": "code",
   "execution_count": 2,
   "metadata": {},
   "outputs": [],
   "source": [
    "_ : bool = load_dotenv(\"E:/Python/.env\")"
   ]
  },
  {
   "cell_type": "code",
   "execution_count": 3,
   "metadata": {},
   "outputs": [],
   "source": [
    "client: OpenAI = OpenAI()"
   ]
  },
  {
   "cell_type": "markdown",
   "metadata": {},
   "source": [
    "### Backend API or External API (Hard Coded functions)"
   ]
  },
  {
   "cell_type": "code",
   "execution_count": 4,
   "metadata": {},
   "outputs": [
    {
     "name": "stdout",
     "output_type": "stream",
     "text": [
      "Longitude 74.35071\n",
      "Latitude 31.558\n"
     ]
    }
   ],
   "source": [
    "# Get Latitude and Longitude of the City\n",
    "def get_lat_long_from_city(city_name: str, count: int = 1, language: str = 'en', format: str = 'json') -> Optional[Tuple[float, float]]:\n",
    "    api_url: str = \"https://geocoding-api.open-meteo.com/v1/search\"\n",
    "    params = {\n",
    "        'name': city_name,\n",
    "        'count': count,\n",
    "        'language': language,\n",
    "        'format': format\n",
    "    }\n",
    "\n",
    "    try:\n",
    "        response = requests.get(api_url, params=params)\n",
    "        response.raise_for_status()  # Raise an exception for bad responses (4xx and 5xx)\n",
    "        result = response.json()\n",
    "        if result:\n",
    "            longitude = result['results'][0]['longitude']\n",
    "            latitude = result['results'][0]['latitude']\n",
    "            return float(longitude), float(latitude)\n",
    "        else:\n",
    "            print(f\"Error: Unable to retrieve coordinates. API response: {result}\")\n",
    "            return None\n",
    "    except requests.exceptions.RequestException as e:\n",
    "        print(f\"Request Exception: {e}\")\n",
    "        return None\n",
    "    except Exception as e:\n",
    "        print(f\"Exception: {e}\")\n",
    "        return None\n",
    "\n",
    "# Example usage\n",
    "city_name:str = \"Lahore\"\n",
    "coordinates = get_lat_long_from_city(city_name)\n",
    "if coordinates:\n",
    "    Longitude, Latitude = coordinates\n",
    "    print(\"Longitude\", Longitude)\n",
    "    print(\"Latitude\", Latitude)\n",
    "\n",
    "# print(\"Longitude\", Longitude)\n",
    "# print(\"Latitude\",Latitude)\n",
    "\n"
   ]
  },
  {
   "cell_type": "code",
   "execution_count": 5,
   "metadata": {},
   "outputs": [],
   "source": [
    "#Function description for \"get_lat_long_from_city\" :\n",
    "\n",
    "tools = [\n",
    "    {\n",
    "        \"type\": \"function\",\n",
    "        \"function\": {\n",
    "            \"name\": \"get_lat_long_from_city\",\n",
    "            \"description\": \"Get the latitude and longitude coordinates for a given city.\",\n",
    "            \"parameters\": {\n",
    "                \"type\": \"object\",\n",
    "                \"properties\": {\n",
    "                    \"city_name\": {\n",
    "                        \"type\": \"string\",\n",
    "                        \"description\": \"The name of the city for which coordinates are requested.\"\n",
    "                    },\n",
    "                    \"count\": {\n",
    "                        \"type\": \"integer\",\n",
    "                        \"description\": \"The number of results to retrieve (default is 1).\"\n",
    "                    },\n",
    "                    \"language\": {\n",
    "                        \"type\": \"string\",\n",
    "                        \"description\": \"The language for the response (default is 'en').\"\n",
    "                    },\n",
    "                    \"format\": {\n",
    "                        \"type\": \"string\",\n",
    "                        \"description\": \"The format of the response (default is 'json').\"\n",
    "                    }\n",
    "                },\n",
    "                \"required\": [\"city_name\"]\n",
    "            },\n",
    "            \"return\": {\n",
    "                \"type\": \"tuple\",\n",
    "                \"items\": [\n",
    "                    {\"type\": \"float\", \"description\": \"Longitude coordinate.\"},\n",
    "                    {\"type\": \"float\", \"description\": \"Latitude coordinate.\"}\n",
    "                ],\n",
    "                \"description\": \"Returns a tuple containing the longitude and latitude coordinates. Returns None in case of an error.\"\n",
    "            }\n",
    "        }\n",
    "    }\n",
    "]\n"
   ]
  },
  {
   "cell_type": "markdown",
   "metadata": {},
   "source": [
    "### API Endpoint for Weather Forecast   \n",
    "    https://api.open-meteo.com/v1/forecast?latitude=24.8608&longitude=67.0104&current=temperature_2m,relative_humidity_2m,apparent_temperature,is_day,weather_code,pressure_msl,surface_pressure,wind_speed_10m,wind_direction_10m,wind_gusts_10m"
   ]
  },
  {
   "cell_type": "code",
   "execution_count": 6,
   "metadata": {},
   "outputs": [
    {
     "name": "stdout",
     "output_type": "stream",
     "text": [
      "Location Data for Lahore\n",
      "Latitude: 31.558\n",
      "Longitude: 74.35071\n",
      "Elevation: 219.0 meters\n",
      "Timezone: GMT\n",
      "Date: 12-12-2023\n",
      "Time: 11:46:37\n",
      "        \n",
      "Current Weather Update for Lahore\n",
      "Temperature: 18.8°C\n",
      "Relative Humidity: 61%\n",
      "Is Day: Day\n",
      "Surface Pressure: 990.4 hPa\n",
      "Wind Speed : 4.7 km/h\n",
      "Wind Direction : 86°\n",
      "Wind Gusts : 14.8 km/h\n"
     ]
    }
   ],
   "source": [
    "#Get Weather Forecast and print results\n",
    "\n",
    "def get_weather_forecast(latitude: float, longitude: float) -> Optional[dict]:\n",
    "    api_url = \"https://api.open-meteo.com/v1/forecast\"\n",
    "    \n",
    "    # Define parameters for the API request\n",
    "    params = {\n",
    "        \"latitude\": latitude,\n",
    "        \"longitude\": longitude,\n",
    "        \"current\": \"temperature_2m,relative_humidity_2m,apparent_temperature,is_day,weather_code,pressure_msl,surface_pressure,wind_speed_10m,wind_direction_10m,wind_gusts_10m\"\n",
    "    }\n",
    "\n",
    "    try:\n",
    "        # Make a GET request to the API\n",
    "        response = requests.get(api_url, params=params)\n",
    "\n",
    "        # Check if the request was successful (status code 200)\n",
    "        if response.status_code == 200:\n",
    "            # Parse and return the JSON data from the response\n",
    "            return response.json()\n",
    "        else:\n",
    "            # Print an error message if the request was not successful\n",
    "            print(f\"Error: {response.status_code} - {response.text}\")\n",
    "            return None\n",
    "    except Exception as e:\n",
    "        # Handle exceptions, e.g., network issues\n",
    "        print(f\"Exception: {e}\")\n",
    "        return None\n",
    "\n",
    "# Example usage\n",
    "forecast_data = get_weather_forecast(Latitude, Longitude)\n",
    "\n",
    "# Print the entire forecast data (modify as needed)\n",
    "if forecast_data:\n",
    "    print(f\"Location Data for {city_name}\")\n",
    "    print(f\"Latitude: {Latitude}\")\n",
    "    print(f\"Longitude: {Longitude}\")\n",
    "    print(f\"Elevation: {forecast_data['elevation']} meters\")\n",
    "    print(f\"Timezone: {forecast_data['timezone']}\")\n",
    "    current_date = datetime.now().date()\n",
    "    current_time = datetime.now().time()\n",
    "    formatted_date = current_date.strftime(\"%d-%m-%Y\")\n",
    "    formatted_time = current_time.strftime(\"%H:%M:%S\")\n",
    "    # Format the date as dd-mm-yyyy\n",
    "    print(f\"Date: {formatted_date}\")\n",
    "    # Format the time as HH:MM:SS\n",
    "    print(f\"Time: {formatted_time}\")\n",
    "    current_data = forecast_data.get('current', {})\n",
    "    print(f\"        \")\n",
    "    if current_data:\n",
    "        print(f\"Current Weather Update for {city_name}\")\n",
    "        print(f\"Temperature: {current_data['temperature_2m']}°C\")\n",
    "        print(f\"Relative Humidity: {current_data['relative_humidity_2m']}%\")\n",
    "        print(f\"Is Day: {'Day' if current_data['is_day'] else 'Night'}\")\n",
    "        print(f\"Surface Pressure: {current_data['surface_pressure']} hPa\")\n",
    "        print(f\"Wind Speed : {current_data['wind_speed_10m']} km/h\")\n",
    "        print(f\"Wind Direction : {current_data['wind_direction_10m']}°\")\n",
    "        print(f\"Wind Gusts : {current_data['wind_gusts_10m']} km/h\")\n",
    "    else:\n",
    "        print(\"Failed to retrieve weather forecast.\")\n",
    "\n"
   ]
  },
  {
   "cell_type": "code",
   "execution_count": 7,
   "metadata": {},
   "outputs": [],
   "source": [
    "#Function description for \"get_weather_forecast\" :\n",
    "\n",
    "# tools = [\n",
    "#     {\n",
    "#         \"type\": \"function\",\n",
    "#         \"function\": {\n",
    "#             \"name\": \"get_weather_forecast\",\n",
    "#             \"description\": \"Get the weather forecast for a given location based on latitude and longitude.\",\n",
    "#             \"parameters\": {\n",
    "#                 \"type\": \"object\",\n",
    "#                 \"properties\": {\n",
    "#                     \"latitude\": {\n",
    "#                         \"type\": \"float\",\n",
    "#                         \"description\": \"The latitude coordinate of the location.\"\n",
    "#                     },\n",
    "#                     \"longitude\": {\n",
    "#                         \"type\": \"float\",\n",
    "#                         \"description\": \"The longitude coordinate of the location.\"\n",
    "#                     }\n",
    "#                 },\n",
    "#                 \"required\": [\"latitude\", \"longitude\"]\n",
    "#             },\n",
    "#             \"return\": {\n",
    "#                 \"type\": \"object\",\n",
    "#                 \"description\": \"Returns a dictionary containing various weather forecast parameters. Returns None in case of an error.\",\n",
    "#                 \"example\": {\n",
    "#                     \"temperature_2m\": 25.0,\n",
    "#                     \"relative_humidity_2m\": 60,\n",
    "#                     \"apparent_temperature\": 26.5,\n",
    "#                     \"is_day\": True,\n",
    "#                     \"weather_code\": \"partly_cloudy_day\",\n",
    "#                     \"pressure_msl\": 1013.2,\n",
    "#                     \"surface_pressure\": 1011.5,\n",
    "#                     \"wind_speed_10m\": 5.0,\n",
    "#                     \"wind_direction_10m\": 120,\n",
    "#                     \"wind_gusts_10m\": 8.0\n",
    "#                 }\n",
    "#             }\n",
    "#         }\n",
    "#     }\n",
    "# ]\n"
   ]
  },
  {
   "cell_type": "code",
   "execution_count": 8,
   "metadata": {},
   "outputs": [
    {
     "name": "stdout",
     "output_type": "stream",
     "text": [
      "{\n",
      "    \"Location Data\": {\n",
      "        \"Latitude\": 24.8608,\n",
      "        \"Longitude\": 67.0104,\n",
      "        \"Elevation\": 8.0,\n",
      "        \"Timezone\": \"GMT\",\n",
      "        \"Date\": \"12-12-2023\",\n",
      "        \"Time\": \"11:47:17\"\n",
      "    },\n",
      "    \"Current Weather Update\": {\n",
      "        \"Temperature\": 26.1,\n",
      "        \"Relative Humidity\": 45,\n",
      "        \"Is Day\": \"Day\",\n",
      "        \"Surface Pressure\": 1013.2,\n",
      "        \"Wind Speed\": 5.2,\n",
      "        \"Wind Direction\": 16,\n",
      "        \"Wind Gusts\": 13.0\n",
      "    }\n",
      "}\n"
     ]
    }
   ],
   "source": [
    "def get_current_weather(city_name: str) -> str:\n",
    "    Longitude , Latitude = get_lat_long_from_city(city_name)\n",
    "    forecast_data = get_weather_forecast(Latitude, Longitude)\n",
    "    # Prepare data for JSON dump\n",
    "    result: Dict[str, Dict] = {}\n",
    "    # Check if forecast_data is available\n",
    "    if forecast_data:\n",
    "        result[\"Location Data\"] = {\n",
    "            \"Latitude\": Latitude,\n",
    "            \"Longitude\": Longitude,\n",
    "            \"Elevation\": forecast_data.get('elevation'),\n",
    "            \"Timezone\": forecast_data.get('timezone'),\n",
    "            \"Date\": datetime.now().date().strftime(\"%d-%m-%Y\"),\n",
    "            \"Time\": datetime.now().time().strftime(\"%H:%M:%S\")\n",
    "        }\n",
    "    else:\n",
    "        print(\"Failed to retrieve Location Data.\")\n",
    "\n",
    "    current_data = forecast_data.get('current', {})\n",
    "    if current_data:\n",
    "        result[\"Current Weather Update\"] = {\n",
    "            \"Temperature\": current_data.get('temperature_2m'),\n",
    "            \"Relative Humidity\": current_data.get('relative_humidity_2m'),\n",
    "            \"Is Day\": 'Day' if current_data.get('is_day') else 'Night',\n",
    "            \"Surface Pressure\": current_data.get('surface_pressure'),\n",
    "            \"Wind Speed\": current_data.get('wind_speed_10m'),\n",
    "            \"Wind Direction\": current_data.get('wind_direction_10m'),\n",
    "            \"Wind Gusts\": current_data.get('wind_gusts_10m')\n",
    "        }\n",
    "    else:\n",
    "        print(\"Failed to retrieve weather forecast.\")\n",
    "\n",
    "    # Dump the result as JSON\n",
    "    return json.dumps(result, indent=4)\n",
    "\n",
    "\n",
    "\n",
    "\n",
    "city_name = input(\"Enter a city name to enquire weather: \")\n",
    "print(get_current_weather(city_name))"
   ]
  },
  {
   "cell_type": "code",
   "execution_count": 9,
   "metadata": {},
   "outputs": [],
   "source": [
    "#Function description for \"get_current_weather\" :\n",
    "\n",
    "# tools = [\n",
    "#     {\n",
    "#         \"type\": \"function\",\n",
    "#         \"function\": {\n",
    "#             \"name\": \"get_current_weather\",\n",
    "#             \"description\": \"Get the current weather data for a given city, including location details and weather updates.\",\n",
    "#             \"parameters\": {\n",
    "#                 \"type\": \"object\",\n",
    "#                 \"properties\": {\n",
    "#                     \"city_name\": {\n",
    "#                         \"type\": \"string\",\n",
    "#                         \"description\": \"The name of the city for which weather data is requested.\"\n",
    "#                     }\n",
    "#                 },\n",
    "#                 \"required\": [\"city_name\"]\n",
    "#             },\n",
    "#             \"return\": {\n",
    "#                 \"type\": \"string\",\n",
    "#                 \"description\": \"Returns a JSON-formatted string containing location details and current weather updates. Returns an empty string if data retrieval fails.\",\n",
    "#                 \"example\": \"\"\"\n",
    "#                     {\n",
    "#                         \"Location Data\": {\n",
    "#                             \"Latitude\": 37.7749,\n",
    "#                             \"Longitude\": -122.4194,\n",
    "#                             \"Elevation\": 60.0,\n",
    "#                             \"Timezone\": \"America/Los_Angeles\",\n",
    "#                             \"Date\": \"12-02-2023\",\n",
    "#                             \"Time\": \"14:30:00\"\n",
    "#                         },\n",
    "#                         \"Current Weather Update\": {\n",
    "#                             \"Temperature\": 20.5,\n",
    "#                             \"Relative Humidity\": 75,\n",
    "#                             \"Is Day\": \"Day\",\n",
    "#                             \"Surface Pressure\": 1012.3,\n",
    "#                             \"Wind Speed\": 5.0,\n",
    "#                             \"Wind Direction\": 150,\n",
    "#                             \"Wind Gusts\": 8.0\n",
    "#                         }\n",
    "#                     }\n",
    "#                     \"\"\"\n",
    "#             }\n",
    "#         }\n",
    "#     }\n",
    "# ]\n"
   ]
  },
  {
   "cell_type": "markdown",
   "metadata": {},
   "source": [
    "### Types\n",
    "\n",
    "https://github.com/openai/openai-python/tree/main/src/openai/types/chat\n"
   ]
  },
  {
   "cell_type": "code",
   "execution_count": 17,
   "metadata": {},
   "outputs": [],
   "source": [
    "from openai.types.chat.chat_completion import ChatCompletion,ChatCompletionMessage\n",
    "from IPython.display import display  # Assuming you are using IPython\n",
    "\n",
    "\n",
    "def run_conversation(main_request: str)->str:\n",
    "    #Step 1 send the conversation and available function to the model\n",
    "    messages = [\n",
    "        {\n",
    "            \"role\": \"user\",\n",
    "            \"content\": main_request,\n",
    "        }\n",
    "    ]\n",
    "    \n",
    "    tools = [\n",
    "        #Function description for \"get_lat_long_from_city\" :\n",
    "        {\n",
    "            \"type\": \"function\",\n",
    "            \"function\": {\n",
    "                \"name\": \"get_lat_long_from_city\",\n",
    "                \"description\": \"Get the latitude and longitude coordinates for a given city.\",\n",
    "                \"parameters\": {\n",
    "                    \"type\": \"object\",\n",
    "                    \"properties\": {\n",
    "                        \"city_name\": {\n",
    "                            \"type\": \"string\",\n",
    "                            \"description\": \"The name of the city for which coordinates are requested.\"\n",
    "                        },\n",
    "                        \"count\": {\n",
    "                            \"type\": \"integer\",\n",
    "                            \"description\": \"The number of results to retrieve (default is 1).\"\n",
    "                        },\n",
    "                        \"language\": {\n",
    "                            \"type\": \"string\",\n",
    "                            \"description\": \"The language for the response (default is 'en').\"\n",
    "                        },\n",
    "                        \"format\": {\n",
    "                            \"type\": \"string\",\n",
    "                            \"description\": \"The format of the response (default is 'json').\"\n",
    "                        }\n",
    "                    },\n",
    "                    \"required\": [\"city_name\"]\n",
    "                },\n",
    "                \"return\": {\n",
    "                    \"type\": \"tuple\",\n",
    "                    \"items\": [\n",
    "                        {\"type\": \"float\", \"description\": \"Longitude coordinate.\"},\n",
    "                        {\"type\": \"float\", \"description\": \"Latitude coordinate.\"}\n",
    "                    ],\n",
    "                    \"description\": \"Returns a tuple containing the longitude and latitude coordinates. Returns None in case of an error.\"\n",
    "                }\n",
    "            }\n",
    "        },\n",
    "        #Function description for \"get_weather_forecast\" :\n",
    "        {\n",
    "            \"type\": \"function\",\n",
    "            \"function\": {\n",
    "                \"name\": \"get_weather_forecast\",\n",
    "                \"description\": \"Get the weather forecast for a given location based on latitude and longitude.\",\n",
    "                \"parameters\": {\n",
    "                    \"type\": \"object\",\n",
    "                    \"properties\": {\n",
    "                        # \"latitude\": {\n",
    "                        #     \"type\": \"float\",\n",
    "                        #     \"description\": \"The latitude coordinate of the location.\"\n",
    "                        # },\n",
    "                        # \"longitude\": {\n",
    "                        #     \"type\": \"float\",\n",
    "                        #     \"description\": \"The longitude coordinate of the location.\"\n",
    "                        # }\n",
    "                        \"latitude\": {\n",
    "                            \"type\": \"string\",\n",
    "                            \"format\": \"float\",  # Use \"format\" to specify the type\n",
    "                            \"description\": \"The latitude coordinate of the location.\"\n",
    "                        },\n",
    "                        \"longitude\": {\n",
    "                            \"type\": \"string\",\n",
    "                            \"format\": \"float\",  # Use \"format\" to specify the type\n",
    "                            \"description\": \"The longitude coordinate of the location.\"\n",
    "                        }\n",
    "                    },\n",
    "                    \"required\": [\"latitude\", \"longitude\"]\n",
    "                },\n",
    "                \"return\": {\n",
    "                    \"type\": \"object\",\n",
    "                    \"description\": \"Returns a dictionary containing various weather forecast parameters. Returns None in case of an error.\",\n",
    "                    \"example\": {\n",
    "                        \"temperature_2m\": 25.0,\n",
    "                        \"relative_humidity_2m\": 60,\n",
    "                        \"apparent_temperature\": 26.5,\n",
    "                        \"is_day\": True,\n",
    "                        \"weather_code\": \"partly_cloudy_day\",\n",
    "                        \"pressure_msl\": 1013.2,\n",
    "                        \"surface_pressure\": 1011.5,\n",
    "                        \"wind_speed_10m\": 5.0,\n",
    "                        \"wind_direction_10m\": 120,\n",
    "                        \"wind_gusts_10m\": 8.0\n",
    "                    }\n",
    "                }\n",
    "            }\n",
    "        },\n",
    "        #Function description for \"get_current_weather\" :\n",
    "        {\n",
    "            \"type\": \"function\",\n",
    "            \"function\": {\n",
    "                \"name\": \"get_current_weather\",\n",
    "                \"description\": \"Get the current weather data for a given city, including location details and weather updates.\",\n",
    "                \"parameters\": {\n",
    "                    \"type\": \"object\",\n",
    "                    \"properties\": {\n",
    "                        \"city_name\": {\n",
    "                            \"type\": \"string\",\n",
    "                            \"description\": \"The name of the city for which weather data is requested.\"\n",
    "                        }\n",
    "                    },\n",
    "                    \"required\": [\"city_name\"]\n",
    "                },\n",
    "                \"return\": {\n",
    "                    \"type\": \"string\",\n",
    "                    \"description\": \"Returns a JSON-formatted string containing location details and current weather updates. Returns an empty string if data retrieval fails.\",\n",
    "                    \"example\": \"\"\"\n",
    "                        {\n",
    "                            \"Location Data\": {\n",
    "                                \"Latitude\": 37.7749,\n",
    "                                \"Longitude\": -122.4194,\n",
    "                                \"Elevation\": 60.0,\n",
    "                                \"Timezone\": \"America/Los_Angeles\",\n",
    "                                \"Date\": \"12-02-2023\",\n",
    "                                \"Time\": \"14:30:00\"\n",
    "                            },\n",
    "                            \"Current Weather Update\": {\n",
    "                                \"Temperature\": 20.5,\n",
    "                                \"Relative Humidity\": 75,\n",
    "                                \"Is Day\": \"Day\",\n",
    "                                \"Surface Pressure\": 1012.3,\n",
    "                                \"Wind Speed\": 5.0,\n",
    "                                \"Wind Direction\": 150,\n",
    "                                \"Wind Gusts\": 8.0\n",
    "                            }\n",
    "                        }\n",
    "                        \"\"\"\n",
    "                }\n",
    "            }\n",
    "        }\n",
    "    ]\n",
    "    \n",
    "    # First Request\n",
    "    response: ChatCompletion = client.chat.completions.create(\n",
    "        model= \"gpt-3.5-turbo-1106\",\n",
    "        messages= messages,\n",
    "        tools= tools,\n",
    "        tool_choice= \"auto\", # auto is default, but we'll be explicit\n",
    "    )\n",
    "    response_message: ChatCompletion = response.choices[0].message\n",
    "    display(\" *First Response: \", dict(response_message))\n",
    "    \n",
    "    tool_calls = response_message.tool_calls\n",
    "    display(\"* First Response Tool Calls: \", list(tool_calls))\n",
    "    \n",
    "    #Step 2 Check if the model want to call a function\n",
    "    if tool_calls:\n",
    "        #Step 3 Call the function\n",
    "        #Note: The JSON response may not always be valid, be sure to handle errors\n",
    "        available_functions = {\n",
    "            \"get_lat_long_from_city\": get_lat_long_from_city,\n",
    "            \"get_weather_forecast\": get_weather_forecast,\n",
    "            \"get_current_weather\": get_current_weather,\n",
    "        }\n",
    "        \n",
    "    #Step 4 Send the info for each function call and function response to the model\n",
    "        messages.append(response_message)\n",
    "        \n",
    "        for tool_call in tool_calls:\n",
    "            function_name = tool_call.function.name\n",
    "            function_to_call = available_functions[function_name]\n",
    "            # Mapping function arguments dynamically\n",
    "\n",
    "            function_args_mapping = {\n",
    "                \"get_lat_long_from_city\": {\n",
    "                    \"city_name\": None,\n",
    "                    \"count\": 1,\n",
    "                    \"language\": \"en\",\n",
    "                    \"format\": \"json\",\n",
    "                },\n",
    "                \"get_weather_forecast\": {\n",
    "                    \"latitude\": None,\n",
    "                    \"longitude\": None,\n",
    "                },\n",
    "                \"get_current_weather\": {\n",
    "                    \"city_name\": None,\n",
    "                },\n",
    "            }\n",
    "\n",
    "            # Get the corresponding function_args\n",
    "            function_args = function_args_mapping.get(function_name, {})\n",
    "\n",
    "            # Check if tool_call.function.arguments is a JSON-formatted string\n",
    "            try:\n",
    "                parsed_arguments = json.loads(tool_call.function.arguments)\n",
    "                # Update function_args with parsed arguments\n",
    "                function_args.update(parsed_arguments)\n",
    "            except json.JSONDecodeError:\n",
    "                print(\"Error parsing JSON from tool_call.function.arguments\")\n",
    "                        \n",
    "            # Call the function with dynamically obtained arguments\n",
    "            function_response = function_to_call(**function_args)\n",
    "            \n",
    "            messages.append(\n",
    "                {\n",
    "                    \"tool_call_id\": tool_call.id,\n",
    "                    \"role\": \"tool\",\n",
    "                    \"name\": function_name,\n",
    "                    \"content\": function_response,\n",
    "                })\n",
    "    display(\"* Second Request Message: \", list(messages))\n",
    "            \n",
    "    print(\"Messages before second API call:\", messages)\n",
    "            \n",
    "    second_response: ChatCompletion = client.chat.completions.create(\n",
    "                model=\"gpt-3.5-turbo-1106\",\n",
    "                messages=messages,\n",
    "            )\n",
    "            \n",
    "    print(\"* Second Response: \", dict(second_response))\n",
    "    return second_response.choices[0].message.content"
   ]
  },
  {
   "cell_type": "code",
   "execution_count": 18,
   "metadata": {},
   "outputs": [
    {
     "data": {
      "text/plain": [
       "' *First Response: '"
      ]
     },
     "metadata": {},
     "output_type": "display_data"
    },
    {
     "data": {
      "text/plain": [
       "{'content': None,\n",
       " 'role': 'assistant',\n",
       " 'function_call': None,\n",
       " 'tool_calls': [ChatCompletionMessageToolCall(id='call_1IVoqY36jdm1YvkBCqxtWWdJ', function=Function(arguments='{\"city_name\":\"Islamabad\"}', name='get_current_weather'), type='function')]}"
      ]
     },
     "metadata": {},
     "output_type": "display_data"
    },
    {
     "data": {
      "text/plain": [
       "'* First Response Tool Calls: '"
      ]
     },
     "metadata": {},
     "output_type": "display_data"
    },
    {
     "data": {
      "text/plain": [
       "[ChatCompletionMessageToolCall(id='call_1IVoqY36jdm1YvkBCqxtWWdJ', function=Function(arguments='{\"city_name\":\"Islamabad\"}', name='get_current_weather'), type='function')]"
      ]
     },
     "metadata": {},
     "output_type": "display_data"
    },
    {
     "data": {
      "text/plain": [
       "'* Second Request Message: '"
      ]
     },
     "metadata": {},
     "output_type": "display_data"
    },
    {
     "data": {
      "text/plain": [
       "[{'role': 'user', 'content': \"What's the weather like in Islamabad?\"},\n",
       " ChatCompletionMessage(content=None, role='assistant', function_call=None, tool_calls=[ChatCompletionMessageToolCall(id='call_1IVoqY36jdm1YvkBCqxtWWdJ', function=Function(arguments='{\"city_name\":\"Islamabad\"}', name='get_current_weather'), type='function')]),\n",
       " {'tool_call_id': 'call_1IVoqY36jdm1YvkBCqxtWWdJ',\n",
       "  'role': 'tool',\n",
       "  'name': 'get_current_weather',\n",
       "  'content': '{\\n    \"Location Data\": {\\n        \"Latitude\": 33.72148,\\n        \"Longitude\": 73.04329,\\n        \"Elevation\": 583.0,\\n        \"Timezone\": \"GMT\",\\n        \"Date\": \"12-12-2023\",\\n        \"Time\": \"13:50:32\"\\n    },\\n    \"Current Weather Update\": {\\n        \"Temperature\": 18.6,\\n        \"Relative Humidity\": 41,\\n        \"Is Day\": \"Day\",\\n        \"Surface Pressure\": 948.0,\\n        \"Wind Speed\": 4.7,\\n        \"Wind Direction\": 212,\\n        \"Wind Gusts\": 12.2\\n    }\\n}'}]"
      ]
     },
     "metadata": {},
     "output_type": "display_data"
    },
    {
     "name": "stdout",
     "output_type": "stream",
     "text": [
      "Messages before second API call: [{'role': 'user', 'content': \"What's the weather like in Islamabad?\"}, ChatCompletionMessage(content=None, role='assistant', function_call=None, tool_calls=[ChatCompletionMessageToolCall(id='call_1IVoqY36jdm1YvkBCqxtWWdJ', function=Function(arguments='{\"city_name\":\"Islamabad\"}', name='get_current_weather'), type='function')]), {'tool_call_id': 'call_1IVoqY36jdm1YvkBCqxtWWdJ', 'role': 'tool', 'name': 'get_current_weather', 'content': '{\\n    \"Location Data\": {\\n        \"Latitude\": 33.72148,\\n        \"Longitude\": 73.04329,\\n        \"Elevation\": 583.0,\\n        \"Timezone\": \"GMT\",\\n        \"Date\": \"12-12-2023\",\\n        \"Time\": \"13:50:32\"\\n    },\\n    \"Current Weather Update\": {\\n        \"Temperature\": 18.6,\\n        \"Relative Humidity\": 41,\\n        \"Is Day\": \"Day\",\\n        \"Surface Pressure\": 948.0,\\n        \"Wind Speed\": 4.7,\\n        \"Wind Direction\": 212,\\n        \"Wind Gusts\": 12.2\\n    }\\n}'}]\n",
      "* Second Response:  {'id': 'chatcmpl-8UslGLNLVgu6Ih2mmPqmH13reF4dv', 'choices': [Choice(finish_reason='stop', index=0, message=ChatCompletionMessage(content='The current weather in Islamabad is 18.6°C with a relative humidity of 41%. The wind speed is 4.7 km/h with gusts up to 12.2 km/h. It is currently daytime in Islamabad.', role='assistant', function_call=None, tool_calls=None))], 'created': 1702371034, 'model': 'gpt-3.5-turbo-1106', 'object': 'chat.completion', 'system_fingerprint': 'fp_f3efa6edfc', 'usage': CompletionUsage(completion_tokens=48, prompt_tokens=186, total_tokens=234)}\n"
     ]
    },
    {
     "data": {
      "text/plain": [
       "'The current weather in Islamabad is 18.6°C with a relative humidity of 41%. The wind speed is 4.7 km/h with gusts up to 12.2 km/h. It is currently daytime in Islamabad.'"
      ]
     },
     "execution_count": 18,
     "metadata": {},
     "output_type": "execute_result"
    }
   ],
   "source": [
    "run_conversation(\"What's the weather like in Islamabad?\")"
   ]
  },
  {
   "cell_type": "code",
   "execution_count": 19,
   "metadata": {},
   "outputs": [
    {
     "data": {
      "text/plain": [
       "' *First Response: '"
      ]
     },
     "metadata": {},
     "output_type": "display_data"
    },
    {
     "data": {
      "text/plain": [
       "{'content': None,\n",
       " 'role': 'assistant',\n",
       " 'function_call': None,\n",
       " 'tool_calls': [ChatCompletionMessageToolCall(id='call_3OnobgVpsHUnkj5jwhPGhCej', function=Function(arguments='{\"city_name\":\"New York\"}', name='get_current_weather'), type='function')]}"
      ]
     },
     "metadata": {},
     "output_type": "display_data"
    },
    {
     "data": {
      "text/plain": [
       "'* First Response Tool Calls: '"
      ]
     },
     "metadata": {},
     "output_type": "display_data"
    },
    {
     "data": {
      "text/plain": [
       "[ChatCompletionMessageToolCall(id='call_3OnobgVpsHUnkj5jwhPGhCej', function=Function(arguments='{\"city_name\":\"New York\"}', name='get_current_weather'), type='function')]"
      ]
     },
     "metadata": {},
     "output_type": "display_data"
    },
    {
     "data": {
      "text/plain": [
       "'* Second Request Message: '"
      ]
     },
     "metadata": {},
     "output_type": "display_data"
    },
    {
     "data": {
      "text/plain": [
       "[{'role': 'user', 'content': \"What's the weather like in new york?\"},\n",
       " ChatCompletionMessage(content=None, role='assistant', function_call=None, tool_calls=[ChatCompletionMessageToolCall(id='call_3OnobgVpsHUnkj5jwhPGhCej', function=Function(arguments='{\"city_name\":\"New York\"}', name='get_current_weather'), type='function')]),\n",
       " {'tool_call_id': 'call_3OnobgVpsHUnkj5jwhPGhCej',\n",
       "  'role': 'tool',\n",
       "  'name': 'get_current_weather',\n",
       "  'content': '{\\n    \"Location Data\": {\\n        \"Latitude\": 40.71427,\\n        \"Longitude\": -74.00597,\\n        \"Elevation\": 51.0,\\n        \"Timezone\": \"GMT\",\\n        \"Date\": \"12-12-2023\",\\n        \"Time\": \"13:54:39\"\\n    },\\n    \"Current Weather Update\": {\\n        \"Temperature\": 0.3,\\n        \"Relative Humidity\": 76,\\n        \"Is Day\": \"Night\",\\n        \"Surface Pressure\": 1019.2,\\n        \"Wind Speed\": 10.5,\\n        \"Wind Direction\": 239,\\n        \"Wind Gusts\": 20.9\\n    }\\n}'}]"
      ]
     },
     "metadata": {},
     "output_type": "display_data"
    },
    {
     "name": "stdout",
     "output_type": "stream",
     "text": [
      "Messages before second API call: [{'role': 'user', 'content': \"What's the weather like in new york?\"}, ChatCompletionMessage(content=None, role='assistant', function_call=None, tool_calls=[ChatCompletionMessageToolCall(id='call_3OnobgVpsHUnkj5jwhPGhCej', function=Function(arguments='{\"city_name\":\"New York\"}', name='get_current_weather'), type='function')]), {'tool_call_id': 'call_3OnobgVpsHUnkj5jwhPGhCej', 'role': 'tool', 'name': 'get_current_weather', 'content': '{\\n    \"Location Data\": {\\n        \"Latitude\": 40.71427,\\n        \"Longitude\": -74.00597,\\n        \"Elevation\": 51.0,\\n        \"Timezone\": \"GMT\",\\n        \"Date\": \"12-12-2023\",\\n        \"Time\": \"13:54:39\"\\n    },\\n    \"Current Weather Update\": {\\n        \"Temperature\": 0.3,\\n        \"Relative Humidity\": 76,\\n        \"Is Day\": \"Night\",\\n        \"Surface Pressure\": 1019.2,\\n        \"Wind Speed\": 10.5,\\n        \"Wind Direction\": 239,\\n        \"Wind Gusts\": 20.9\\n    }\\n}'}]\n",
      "* Second Response:  {'id': 'chatcmpl-8UspEOIskaLK0wsc8BemXOZy7yOAW', 'choices': [Choice(finish_reason='stop', index=0, message=ChatCompletionMessage(content='The current weather in New York is a temperature of 0.3°C with a relative humidity of 76%. The wind speed is 10.5 km/h with gusts up to 20.9 km/h. It is currently night time in New York.', role='assistant', function_call=None, tool_calls=None))], 'created': 1702371280, 'model': 'gpt-3.5-turbo-1106', 'object': 'chat.completion', 'system_fingerprint': 'fp_f3efa6edfc', 'usage': CompletionUsage(completion_tokens=54, prompt_tokens=188, total_tokens=242)}\n"
     ]
    },
    {
     "data": {
      "text/plain": [
       "'The current weather in New York is a temperature of 0.3°C with a relative humidity of 76%. The wind speed is 10.5 km/h with gusts up to 20.9 km/h. It is currently night time in New York.'"
      ]
     },
     "execution_count": 19,
     "metadata": {},
     "output_type": "execute_result"
    }
   ],
   "source": [
    "run_conversation(\"What's the weather like in new york?\")"
   ]
  },
  {
   "cell_type": "code",
   "execution_count": 20,
   "metadata": {},
   "outputs": [
    {
     "data": {
      "text/plain": [
       "' *First Response: '"
      ]
     },
     "metadata": {},
     "output_type": "display_data"
    },
    {
     "data": {
      "text/plain": [
       "{'content': None,\n",
       " 'role': 'assistant',\n",
       " 'function_call': None,\n",
       " 'tool_calls': [ChatCompletionMessageToolCall(id='call_idKJFJm2kbs8CiQ1p59IXkz0', function=Function(arguments='{\"city_name\":\"karachi\"}', name='get_current_weather'), type='function')]}"
      ]
     },
     "metadata": {},
     "output_type": "display_data"
    },
    {
     "data": {
      "text/plain": [
       "'* First Response Tool Calls: '"
      ]
     },
     "metadata": {},
     "output_type": "display_data"
    },
    {
     "data": {
      "text/plain": [
       "[ChatCompletionMessageToolCall(id='call_idKJFJm2kbs8CiQ1p59IXkz0', function=Function(arguments='{\"city_name\":\"karachi\"}', name='get_current_weather'), type='function')]"
      ]
     },
     "metadata": {},
     "output_type": "display_data"
    },
    {
     "data": {
      "text/plain": [
       "'* Second Request Message: '"
      ]
     },
     "metadata": {},
     "output_type": "display_data"
    },
    {
     "data": {
      "text/plain": [
       "[{'role': 'user', 'content': 'What is current temprature in karachi?'},\n",
       " ChatCompletionMessage(content=None, role='assistant', function_call=None, tool_calls=[ChatCompletionMessageToolCall(id='call_idKJFJm2kbs8CiQ1p59IXkz0', function=Function(arguments='{\"city_name\":\"karachi\"}', name='get_current_weather'), type='function')]),\n",
       " {'tool_call_id': 'call_idKJFJm2kbs8CiQ1p59IXkz0',\n",
       "  'role': 'tool',\n",
       "  'name': 'get_current_weather',\n",
       "  'content': '{\\n    \"Location Data\": {\\n        \"Latitude\": 24.8608,\\n        \"Longitude\": 67.0104,\\n        \"Elevation\": 8.0,\\n        \"Timezone\": \"GMT\",\\n        \"Date\": \"12-12-2023\",\\n        \"Time\": \"13:57:26\"\\n    },\\n    \"Current Weather Update\": {\\n        \"Temperature\": 28.8,\\n        \"Relative Humidity\": 31,\\n        \"Is Day\": \"Day\",\\n        \"Surface Pressure\": 1010.8,\\n        \"Wind Speed\": 8.0,\\n        \"Wind Direction\": 72,\\n        \"Wind Gusts\": 15.8\\n    }\\n}'}]"
      ]
     },
     "metadata": {},
     "output_type": "display_data"
    },
    {
     "name": "stdout",
     "output_type": "stream",
     "text": [
      "Messages before second API call: [{'role': 'user', 'content': 'What is current temprature in karachi?'}, ChatCompletionMessage(content=None, role='assistant', function_call=None, tool_calls=[ChatCompletionMessageToolCall(id='call_idKJFJm2kbs8CiQ1p59IXkz0', function=Function(arguments='{\"city_name\":\"karachi\"}', name='get_current_weather'), type='function')]), {'tool_call_id': 'call_idKJFJm2kbs8CiQ1p59IXkz0', 'role': 'tool', 'name': 'get_current_weather', 'content': '{\\n    \"Location Data\": {\\n        \"Latitude\": 24.8608,\\n        \"Longitude\": 67.0104,\\n        \"Elevation\": 8.0,\\n        \"Timezone\": \"GMT\",\\n        \"Date\": \"12-12-2023\",\\n        \"Time\": \"13:57:26\"\\n    },\\n    \"Current Weather Update\": {\\n        \"Temperature\": 28.8,\\n        \"Relative Humidity\": 31,\\n        \"Is Day\": \"Day\",\\n        \"Surface Pressure\": 1010.8,\\n        \"Wind Speed\": 8.0,\\n        \"Wind Direction\": 72,\\n        \"Wind Gusts\": 15.8\\n    }\\n}'}]\n",
      "* Second Response:  {'id': 'chatcmpl-8Usrvz0kjqCNghI0UGLipKwTdYArm', 'choices': [Choice(finish_reason='stop', index=0, message=ChatCompletionMessage(content='The current temperature in Karachi is 28.8°C.', role='assistant', function_call=None, tool_calls=None))], 'created': 1702371447, 'model': 'gpt-3.5-turbo-1106', 'object': 'chat.completion', 'system_fingerprint': 'fp_f3efa6edfc', 'usage': CompletionUsage(completion_tokens=12, prompt_tokens=189, total_tokens=201)}\n"
     ]
    },
    {
     "data": {
      "text/plain": [
       "'The current temperature in Karachi is 28.8°C.'"
      ]
     },
     "execution_count": 20,
     "metadata": {},
     "output_type": "execute_result"
    }
   ],
   "source": [
    "run_conversation(\"What is current temperature in karachi?\")"
   ]
  },
  {
   "cell_type": "code",
   "execution_count": 21,
   "metadata": {},
   "outputs": [
    {
     "data": {
      "text/plain": [
       "' *First Response: '"
      ]
     },
     "metadata": {},
     "output_type": "display_data"
    },
    {
     "data": {
      "text/plain": [
       "{'content': None,\n",
       " 'role': 'assistant',\n",
       " 'function_call': None,\n",
       " 'tool_calls': [ChatCompletionMessageToolCall(id='call_RMcw6bRXNRxJ0TE9E14XQRXM', function=Function(arguments='{\"city_name\":\"karachi\"}', name='get_current_weather'), type='function')]}"
      ]
     },
     "metadata": {},
     "output_type": "display_data"
    },
    {
     "data": {
      "text/plain": [
       "'* First Response Tool Calls: '"
      ]
     },
     "metadata": {},
     "output_type": "display_data"
    },
    {
     "data": {
      "text/plain": [
       "[ChatCompletionMessageToolCall(id='call_RMcw6bRXNRxJ0TE9E14XQRXM', function=Function(arguments='{\"city_name\":\"karachi\"}', name='get_current_weather'), type='function')]"
      ]
     },
     "metadata": {},
     "output_type": "display_data"
    },
    {
     "data": {
      "text/plain": [
       "'* Second Request Message: '"
      ]
     },
     "metadata": {},
     "output_type": "display_data"
    },
    {
     "data": {
      "text/plain": [
       "[{'role': 'user', 'content': 'what is uv index in karachi?'},\n",
       " ChatCompletionMessage(content=None, role='assistant', function_call=None, tool_calls=[ChatCompletionMessageToolCall(id='call_RMcw6bRXNRxJ0TE9E14XQRXM', function=Function(arguments='{\"city_name\":\"karachi\"}', name='get_current_weather'), type='function')]),\n",
       " {'tool_call_id': 'call_RMcw6bRXNRxJ0TE9E14XQRXM',\n",
       "  'role': 'tool',\n",
       "  'name': 'get_current_weather',\n",
       "  'content': '{\\n    \"Location Data\": {\\n        \"Latitude\": 24.8608,\\n        \"Longitude\": 67.0104,\\n        \"Elevation\": 8.0,\\n        \"Timezone\": \"GMT\",\\n        \"Date\": \"12-12-2023\",\\n        \"Time\": \"13:58:41\"\\n    },\\n    \"Current Weather Update\": {\\n        \"Temperature\": 28.8,\\n        \"Relative Humidity\": 31,\\n        \"Is Day\": \"Day\",\\n        \"Surface Pressure\": 1010.8,\\n        \"Wind Speed\": 8.0,\\n        \"Wind Direction\": 72,\\n        \"Wind Gusts\": 15.8\\n    }\\n}'}]"
      ]
     },
     "metadata": {},
     "output_type": "display_data"
    },
    {
     "name": "stdout",
     "output_type": "stream",
     "text": [
      "Messages before second API call: [{'role': 'user', 'content': 'what is uv index in karachi?'}, ChatCompletionMessage(content=None, role='assistant', function_call=None, tool_calls=[ChatCompletionMessageToolCall(id='call_RMcw6bRXNRxJ0TE9E14XQRXM', function=Function(arguments='{\"city_name\":\"karachi\"}', name='get_current_weather'), type='function')]), {'tool_call_id': 'call_RMcw6bRXNRxJ0TE9E14XQRXM', 'role': 'tool', 'name': 'get_current_weather', 'content': '{\\n    \"Location Data\": {\\n        \"Latitude\": 24.8608,\\n        \"Longitude\": 67.0104,\\n        \"Elevation\": 8.0,\\n        \"Timezone\": \"GMT\",\\n        \"Date\": \"12-12-2023\",\\n        \"Time\": \"13:58:41\"\\n    },\\n    \"Current Weather Update\": {\\n        \"Temperature\": 28.8,\\n        \"Relative Humidity\": 31,\\n        \"Is Day\": \"Day\",\\n        \"Surface Pressure\": 1010.8,\\n        \"Wind Speed\": 8.0,\\n        \"Wind Direction\": 72,\\n        \"Wind Gusts\": 15.8\\n    }\\n}'}]\n",
      "* Second Response:  {'id': 'chatcmpl-8Ust8KcDrHQ4eaOsva1PY0gT5qYdH', 'choices': [Choice(finish_reason='stop', index=0, message=ChatCompletionMessage(content='The UV index in Karachi is not available in the current weather data.', role='assistant', function_call=None, tool_calls=None))], 'created': 1702371522, 'model': 'gpt-3.5-turbo-1106', 'object': 'chat.completion', 'system_fingerprint': 'fp_f3efa6edfc', 'usage': CompletionUsage(completion_tokens=14, prompt_tokens=187, total_tokens=201)}\n"
     ]
    },
    {
     "data": {
      "text/plain": [
       "'The UV index in Karachi is not available in the current weather data.'"
      ]
     },
     "execution_count": 21,
     "metadata": {},
     "output_type": "execute_result"
    }
   ],
   "source": [
    "run_conversation(\"what is uv index in karachi?\")"
   ]
  }
 ],
 "metadata": {
  "kernelspec": {
   "display_name": "python-12-env",
   "language": "python",
   "name": "python3"
  },
  "language_info": {
   "codemirror_mode": {
    "name": "ipython",
    "version": 3
   },
   "file_extension": ".py",
   "mimetype": "text/x-python",
   "name": "python",
   "nbconvert_exporter": "python",
   "pygments_lexer": "ipython3",
   "version": "3.12.0"
  }
 },
 "nbformat": 4,
 "nbformat_minor": 2
}
